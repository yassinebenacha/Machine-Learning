{
 "cells": [
  {
   "cell_type": "code",
   "execution_count": 12,
   "id": "91e2a043-5c7a-41d0-b842-d9d0149c1164",
   "metadata": {},
   "outputs": [
    {
     "data": {
      "text/html": [
       "<div>\n",
       "<style scoped>\n",
       "    .dataframe tbody tr th:only-of-type {\n",
       "        vertical-align: middle;\n",
       "    }\n",
       "\n",
       "    .dataframe tbody tr th {\n",
       "        vertical-align: top;\n",
       "    }\n",
       "\n",
       "    .dataframe thead th {\n",
       "        text-align: right;\n",
       "    }\n",
       "</style>\n",
       "<table border=\"1\" class=\"dataframe\">\n",
       "  <thead>\n",
       "    <tr style=\"text-align: right;\">\n",
       "      <th></th>\n",
       "      <th>age</th>\n",
       "      <th>workclass</th>\n",
       "      <th>fnlwgt</th>\n",
       "      <th>education</th>\n",
       "      <th>education-num</th>\n",
       "      <th>marital-status</th>\n",
       "      <th>occupation</th>\n",
       "      <th>relationship</th>\n",
       "      <th>race</th>\n",
       "      <th>sex</th>\n",
       "      <th>capitalGain</th>\n",
       "      <th>capitalLoss</th>\n",
       "      <th>hoursPerWeek</th>\n",
       "      <th>nativeCountry</th>\n",
       "      <th>income</th>\n",
       "    </tr>\n",
       "  </thead>\n",
       "  <tbody>\n",
       "    <tr>\n",
       "      <th>0</th>\n",
       "      <td>39</td>\n",
       "      <td>State-gov</td>\n",
       "      <td>77516</td>\n",
       "      <td>Bachelors</td>\n",
       "      <td>13</td>\n",
       "      <td>Never-married</td>\n",
       "      <td>Adm-clerical</td>\n",
       "      <td>Not-in-family</td>\n",
       "      <td>White</td>\n",
       "      <td>Male</td>\n",
       "      <td>2174</td>\n",
       "      <td>0</td>\n",
       "      <td>40</td>\n",
       "      <td>United-States</td>\n",
       "      <td>&lt;=50K</td>\n",
       "    </tr>\n",
       "    <tr>\n",
       "      <th>1</th>\n",
       "      <td>50</td>\n",
       "      <td>Self-emp-not-inc</td>\n",
       "      <td>83311</td>\n",
       "      <td>Bachelors</td>\n",
       "      <td>13</td>\n",
       "      <td>Married-civ-spouse</td>\n",
       "      <td>Exec-managerial</td>\n",
       "      <td>Husband</td>\n",
       "      <td>White</td>\n",
       "      <td>Male</td>\n",
       "      <td>0</td>\n",
       "      <td>0</td>\n",
       "      <td>13</td>\n",
       "      <td>United-States</td>\n",
       "      <td>&lt;=50K</td>\n",
       "    </tr>\n",
       "    <tr>\n",
       "      <th>2</th>\n",
       "      <td>38</td>\n",
       "      <td>Private</td>\n",
       "      <td>215646</td>\n",
       "      <td>HS-grad</td>\n",
       "      <td>9</td>\n",
       "      <td>Divorced</td>\n",
       "      <td>Handlers-cleaners</td>\n",
       "      <td>Not-in-family</td>\n",
       "      <td>White</td>\n",
       "      <td>Male</td>\n",
       "      <td>0</td>\n",
       "      <td>0</td>\n",
       "      <td>40</td>\n",
       "      <td>United-States</td>\n",
       "      <td>&lt;=50K</td>\n",
       "    </tr>\n",
       "    <tr>\n",
       "      <th>3</th>\n",
       "      <td>53</td>\n",
       "      <td>Private</td>\n",
       "      <td>234721</td>\n",
       "      <td>11th</td>\n",
       "      <td>7</td>\n",
       "      <td>Married-civ-spouse</td>\n",
       "      <td>Handlers-cleaners</td>\n",
       "      <td>Husband</td>\n",
       "      <td>Black</td>\n",
       "      <td>Male</td>\n",
       "      <td>0</td>\n",
       "      <td>0</td>\n",
       "      <td>40</td>\n",
       "      <td>United-States</td>\n",
       "      <td>&lt;=50K</td>\n",
       "    </tr>\n",
       "    <tr>\n",
       "      <th>4</th>\n",
       "      <td>28</td>\n",
       "      <td>Private</td>\n",
       "      <td>338409</td>\n",
       "      <td>Bachelors</td>\n",
       "      <td>13</td>\n",
       "      <td>Married-civ-spouse</td>\n",
       "      <td>Prof-specialty</td>\n",
       "      <td>Wife</td>\n",
       "      <td>Black</td>\n",
       "      <td>Female</td>\n",
       "      <td>0</td>\n",
       "      <td>0</td>\n",
       "      <td>40</td>\n",
       "      <td>Cuba</td>\n",
       "      <td>&lt;=50K</td>\n",
       "    </tr>\n",
       "  </tbody>\n",
       "</table>\n",
       "</div>"
      ],
      "text/plain": [
       "   age         workclass  fnlwgt  education  education-num  \\\n",
       "0   39         State-gov   77516  Bachelors             13   \n",
       "1   50  Self-emp-not-inc   83311  Bachelors             13   \n",
       "2   38           Private  215646    HS-grad              9   \n",
       "3   53           Private  234721       11th              7   \n",
       "4   28           Private  338409  Bachelors             13   \n",
       "\n",
       "       marital-status         occupation   relationship   race     sex  \\\n",
       "0       Never-married       Adm-clerical  Not-in-family  White    Male   \n",
       "1  Married-civ-spouse    Exec-managerial        Husband  White    Male   \n",
       "2            Divorced  Handlers-cleaners  Not-in-family  White    Male   \n",
       "3  Married-civ-spouse  Handlers-cleaners        Husband  Black    Male   \n",
       "4  Married-civ-spouse     Prof-specialty           Wife  Black  Female   \n",
       "\n",
       "   capitalGain  capitalLoss  hoursPerWeek  nativeCountry income  \n",
       "0         2174            0            40  United-States  <=50K  \n",
       "1            0            0            13  United-States  <=50K  \n",
       "2            0            0            40  United-States  <=50K  \n",
       "3            0            0            40  United-States  <=50K  \n",
       "4            0            0            40           Cuba  <=50K  "
      ]
     },
     "execution_count": 12,
     "metadata": {},
     "output_type": "execute_result"
    }
   ],
   "source": [
    "import numpy as np\n",
    "import pandas as pd\n",
    "\n",
    "adult_df = pd.read_csv('adults.csv')\n",
    "\n",
    "adult_df.head()"
   ]
  },
  {
   "cell_type": "code",
   "execution_count": 13,
   "id": "99792b5b-f485-4e84-adc2-3b028cce9491",
   "metadata": {},
   "outputs": [
    {
     "data": {
      "text/plain": [
       "pandas.core.series.Series"
      ]
     },
     "execution_count": 13,
     "metadata": {},
     "output_type": "execute_result"
    }
   ],
   "source": [
    "type(adult_df.age)"
   ]
  },
  {
   "cell_type": "code",
   "execution_count": 14,
   "id": "8a93b067-237c-4ff4-9973-84ae5e47921b",
   "metadata": {},
   "outputs": [
    {
     "data": {
      "text/plain": [
       "pandas.core.frame.DataFrame"
      ]
     },
     "execution_count": 14,
     "metadata": {},
     "output_type": "execute_result"
    }
   ],
   "source": [
    "type(adult_df)"
   ]
  },
  {
   "cell_type": "code",
   "execution_count": 15,
   "id": "1b56ad04-187b-4e6d-b5cf-c6531b653084",
   "metadata": {},
   "outputs": [
    {
     "data": {
      "text/plain": [
       "Index(['age', 'workclass', 'fnlwgt', 'education', 'education-num',\n",
       "       'marital-status', 'occupation', 'relationship', 'race', 'sex',\n",
       "       'capitalGain', 'capitalLoss', 'hoursPerWeek', 'nativeCountry',\n",
       "       'income'],\n",
       "      dtype='object')"
      ]
     },
     "execution_count": 15,
     "metadata": {},
     "output_type": "execute_result"
    }
   ],
   "source": [
    "adult_df.loc[0].index"
   ]
  },
  {
   "cell_type": "code",
   "execution_count": 16,
   "id": "77111a9d-8562-43e2-82f2-788ebff498ee",
   "metadata": {},
   "outputs": [
    {
     "data": {
      "text/plain": [
       "RangeIndex(start=0, stop=78, step=1)"
      ]
     },
     "execution_count": 16,
     "metadata": {},
     "output_type": "execute_result"
    }
   ],
   "source": [
    "adult_df.age.index\n"
   ]
  },
  {
   "cell_type": "code",
   "execution_count": 17,
   "id": "668f4add-bbe9-4998-b3c7-f85d3c21c609",
   "metadata": {},
   "outputs": [],
   "source": [
    "adult_df.set_index(np.arange(10,88),inplace=True)"
   ]
  },
  {
   "cell_type": "code",
   "execution_count": 18,
   "id": "645fff2e-93b6-43f1-9a04-56483a7ce6ad",
   "metadata": {},
   "outputs": [
    {
     "data": {
      "text/html": [
       "<div>\n",
       "<style scoped>\n",
       "    .dataframe tbody tr th:only-of-type {\n",
       "        vertical-align: middle;\n",
       "    }\n",
       "\n",
       "    .dataframe tbody tr th {\n",
       "        vertical-align: top;\n",
       "    }\n",
       "\n",
       "    .dataframe thead th {\n",
       "        text-align: right;\n",
       "    }\n",
       "</style>\n",
       "<table border=\"1\" class=\"dataframe\">\n",
       "  <thead>\n",
       "    <tr style=\"text-align: right;\">\n",
       "      <th></th>\n",
       "      <th>age</th>\n",
       "      <th>workclass</th>\n",
       "      <th>fnlwgt</th>\n",
       "      <th>education</th>\n",
       "      <th>education-num</th>\n",
       "      <th>marital-status</th>\n",
       "      <th>occupation</th>\n",
       "      <th>relationship</th>\n",
       "      <th>race</th>\n",
       "      <th>sex</th>\n",
       "      <th>capitalGain</th>\n",
       "      <th>capitalLoss</th>\n",
       "      <th>hoursPerWeek</th>\n",
       "      <th>nativeCountry</th>\n",
       "      <th>income</th>\n",
       "    </tr>\n",
       "  </thead>\n",
       "  <tbody>\n",
       "    <tr>\n",
       "      <th>10</th>\n",
       "      <td>39</td>\n",
       "      <td>State-gov</td>\n",
       "      <td>77516</td>\n",
       "      <td>Bachelors</td>\n",
       "      <td>13</td>\n",
       "      <td>Never-married</td>\n",
       "      <td>Adm-clerical</td>\n",
       "      <td>Not-in-family</td>\n",
       "      <td>White</td>\n",
       "      <td>Male</td>\n",
       "      <td>2174</td>\n",
       "      <td>0</td>\n",
       "      <td>40</td>\n",
       "      <td>United-States</td>\n",
       "      <td>&lt;=50K</td>\n",
       "    </tr>\n",
       "    <tr>\n",
       "      <th>11</th>\n",
       "      <td>50</td>\n",
       "      <td>Self-emp-not-inc</td>\n",
       "      <td>83311</td>\n",
       "      <td>Bachelors</td>\n",
       "      <td>13</td>\n",
       "      <td>Married-civ-spouse</td>\n",
       "      <td>Exec-managerial</td>\n",
       "      <td>Husband</td>\n",
       "      <td>White</td>\n",
       "      <td>Male</td>\n",
       "      <td>0</td>\n",
       "      <td>0</td>\n",
       "      <td>13</td>\n",
       "      <td>United-States</td>\n",
       "      <td>&lt;=50K</td>\n",
       "    </tr>\n",
       "    <tr>\n",
       "      <th>12</th>\n",
       "      <td>38</td>\n",
       "      <td>Private</td>\n",
       "      <td>215646</td>\n",
       "      <td>HS-grad</td>\n",
       "      <td>9</td>\n",
       "      <td>Divorced</td>\n",
       "      <td>Handlers-cleaners</td>\n",
       "      <td>Not-in-family</td>\n",
       "      <td>White</td>\n",
       "      <td>Male</td>\n",
       "      <td>0</td>\n",
       "      <td>0</td>\n",
       "      <td>40</td>\n",
       "      <td>United-States</td>\n",
       "      <td>&lt;=50K</td>\n",
       "    </tr>\n",
       "    <tr>\n",
       "      <th>13</th>\n",
       "      <td>53</td>\n",
       "      <td>Private</td>\n",
       "      <td>234721</td>\n",
       "      <td>11th</td>\n",
       "      <td>7</td>\n",
       "      <td>Married-civ-spouse</td>\n",
       "      <td>Handlers-cleaners</td>\n",
       "      <td>Husband</td>\n",
       "      <td>Black</td>\n",
       "      <td>Male</td>\n",
       "      <td>0</td>\n",
       "      <td>0</td>\n",
       "      <td>40</td>\n",
       "      <td>United-States</td>\n",
       "      <td>&lt;=50K</td>\n",
       "    </tr>\n",
       "    <tr>\n",
       "      <th>14</th>\n",
       "      <td>28</td>\n",
       "      <td>Private</td>\n",
       "      <td>338409</td>\n",
       "      <td>Bachelors</td>\n",
       "      <td>13</td>\n",
       "      <td>Married-civ-spouse</td>\n",
       "      <td>Prof-specialty</td>\n",
       "      <td>Wife</td>\n",
       "      <td>Black</td>\n",
       "      <td>Female</td>\n",
       "      <td>0</td>\n",
       "      <td>0</td>\n",
       "      <td>40</td>\n",
       "      <td>Cuba</td>\n",
       "      <td>&lt;=50K</td>\n",
       "    </tr>\n",
       "  </tbody>\n",
       "</table>\n",
       "</div>"
      ],
      "text/plain": [
       "    age         workclass  fnlwgt  education  education-num  \\\n",
       "10   39         State-gov   77516  Bachelors             13   \n",
       "11   50  Self-emp-not-inc   83311  Bachelors             13   \n",
       "12   38           Private  215646    HS-grad              9   \n",
       "13   53           Private  234721       11th              7   \n",
       "14   28           Private  338409  Bachelors             13   \n",
       "\n",
       "        marital-status         occupation   relationship   race     sex  \\\n",
       "10       Never-married       Adm-clerical  Not-in-family  White    Male   \n",
       "11  Married-civ-spouse    Exec-managerial        Husband  White    Male   \n",
       "12            Divorced  Handlers-cleaners  Not-in-family  White    Male   \n",
       "13  Married-civ-spouse  Handlers-cleaners        Husband  Black    Male   \n",
       "14  Married-civ-spouse     Prof-specialty           Wife  Black  Female   \n",
       "\n",
       "    capitalGain  capitalLoss  hoursPerWeek  nativeCountry income  \n",
       "10         2174            0            40  United-States  <=50K  \n",
       "11            0            0            13  United-States  <=50K  \n",
       "12            0            0            40  United-States  <=50K  \n",
       "13            0            0            40  United-States  <=50K  \n",
       "14            0            0            40           Cuba  <=50K  "
      ]
     },
     "execution_count": 18,
     "metadata": {},
     "output_type": "execute_result"
    }
   ],
   "source": [
    "adult_df.head()"
   ]
  },
  {
   "cell_type": "code",
   "execution_count": 19,
   "id": "a982e59b-92fe-429a-ae06-42798017d443",
   "metadata": {},
   "outputs": [
    {
     "data": {
      "text/plain": [
       "'HS-grad'"
      ]
     },
     "execution_count": 19,
     "metadata": {},
     "output_type": "execute_result"
    }
   ],
   "source": [
    "adult_df.iloc[2].loc['education']"
   ]
  },
  {
   "cell_type": "code",
   "execution_count": 20,
   "id": "e08d1ce8-b4ce-4edf-af85-3725ea00a3d9",
   "metadata": {},
   "outputs": [
    {
     "data": {
      "text/plain": [
       "'11th'"
      ]
     },
     "execution_count": 20,
     "metadata": {},
     "output_type": "execute_result"
    }
   ],
   "source": [
    "adult_df.iloc[3].loc['education']"
   ]
  },
  {
   "cell_type": "code",
   "execution_count": 21,
   "id": "01e5f64a-8ec7-4bf0-81b4-5cc446891c78",
   "metadata": {},
   "outputs": [
    {
     "data": {
      "text/plain": [
       "'HS-grad'"
      ]
     },
     "execution_count": 21,
     "metadata": {},
     "output_type": "execute_result"
    }
   ],
   "source": [
    "adult_df.iloc[2].loc['education']"
   ]
  },
  {
   "cell_type": "code",
   "execution_count": 22,
   "id": "aefa720a-04ce-4b79-8b65-3d8967d7e5d7",
   "metadata": {},
   "outputs": [
    {
     "data": {
      "text/plain": [
       "'Bachelors'"
      ]
     },
     "execution_count": 22,
     "metadata": {},
     "output_type": "execute_result"
    }
   ],
   "source": [
    "adult_df.iloc[0].loc['education']"
   ]
  },
  {
   "cell_type": "code",
   "execution_count": 23,
   "id": "cd5a97a9-3e89-4c90-a340-41b06ba218b0",
   "metadata": {},
   "outputs": [
    {
     "data": {
      "text/plain": [
       "'Bachelors'"
      ]
     },
     "execution_count": 23,
     "metadata": {},
     "output_type": "execute_result"
    }
   ],
   "source": [
    "adult_df.iloc[1].loc['education']"
   ]
  },
  {
   "cell_type": "code",
   "execution_count": 24,
   "id": "e9c30ae3-5cad-4db2-bf73-097a6006bccc",
   "metadata": {},
   "outputs": [
    {
     "data": {
      "text/plain": [
       "'Bachelors'"
      ]
     },
     "execution_count": 24,
     "metadata": {},
     "output_type": "execute_result"
    }
   ],
   "source": [
    "adult_df.iloc[4].loc['education']"
   ]
  },
  {
   "cell_type": "code",
   "execution_count": 25,
   "id": "f25138d8-f42b-4097-ac63-e95bf304f105",
   "metadata": {},
   "outputs": [
    {
     "data": {
      "text/plain": [
       "'11th'"
      ]
     },
     "execution_count": 25,
     "metadata": {},
     "output_type": "execute_result"
    }
   ],
   "source": [
    "adult_df.education.loc[13]"
   ]
  },
  {
   "cell_type": "code",
   "execution_count": 26,
   "id": "f73e3425-d3d3-4455-a124-ae01f60048b0",
   "metadata": {},
   "outputs": [
    {
     "data": {
      "text/plain": [
       "'11th'"
      ]
     },
     "execution_count": 26,
     "metadata": {},
     "output_type": "execute_result"
    }
   ],
   "source": [
    "adult_df.education.loc[13]"
   ]
  },
  {
   "cell_type": "code",
   "execution_count": 27,
   "id": "6321ad7f-c5b4-49c9-91a5-cd669b586f2e",
   "metadata": {},
   "outputs": [
    {
     "data": {
      "text/plain": [
       "'HS-grad'"
      ]
     },
     "execution_count": 27,
     "metadata": {},
     "output_type": "execute_result"
    }
   ],
   "source": [
    "adult_df['education'].iloc[2]"
   ]
  },
  {
   "cell_type": "code",
   "execution_count": 28,
   "id": "e948958a-b67f-409d-a8e8-6fa07c40e644",
   "metadata": {},
   "outputs": [
    {
     "data": {
      "text/plain": [
       "'Bachelors'"
      ]
     },
     "execution_count": 28,
     "metadata": {},
     "output_type": "execute_result"
    }
   ],
   "source": [
    "adult_df.at[14,'education']"
   ]
  },
  {
   "cell_type": "code",
   "execution_count": 29,
   "id": "605d8941-bb29-4077-bd1a-795477dfaa17",
   "metadata": {},
   "outputs": [
    {
     "name": "stdout",
     "output_type": "stream",
     "text": [
      "HS-grad\n",
      "HS-grad\n",
      "HS-grad\n",
      "HS-grad\n"
     ]
    }
   ],
   "source": [
    "row_series = adult_df.loc[12]\n",
    "print(row_series.loc['education'])\n",
    "print(row_series.iloc[3])\n",
    "print(row_series['education'])\n",
    "print(row_series.education)"
   ]
  },
  {
   "cell_type": "code",
   "execution_count": 30,
   "id": "264fd6ed-ce44-4204-a1b5-e7855339d4d9",
   "metadata": {},
   "outputs": [
    {
     "name": "stdout",
     "output_type": "stream",
     "text": [
      "11th\n",
      "HS-grad\n",
      "11th\n"
     ]
    }
   ],
   "source": [
    "columns_series = adult_df.education\n",
    "print(columns_series.loc[13])\n",
    "print(columns_series.iloc[2])\n",
    "print(columns_series.loc[13])"
   ]
  },
  {
   "cell_type": "code",
   "execution_count": 31,
   "id": "388e08d9-77bc-4b76-b5dd-e970b6299247",
   "metadata": {},
   "outputs": [
    {
     "name": "stdout",
     "output_type": "stream",
     "text": [
      "   age workclass\n",
      "5   37   Private\n",
      "6   49   Private\n",
      "Empty DataFrame\n",
      "Columns: [age, workclass, fnlwgt]\n",
      "Index: []\n"
     ]
    }
   ],
   "source": [
    "import pandas as pd\n",
    "import numpy as np\n",
    "adult_df = pd.read_csv('adults.csv')\n",
    "adult_df.set_index(np.arange(0,78), inplace=True)\n",
    "print(adult_df.iloc[5:7,0:2])\n",
    "print(adult_df.loc['10005': '10007', 'age': 'fnlwgt'])"
   ]
  },
  {
   "cell_type": "code",
   "execution_count": 32,
   "id": "d06ffc7c-b4e8-4e86-9dc4-6881da1aa0b8",
   "metadata": {},
   "outputs": [
    {
     "data": {
      "text/plain": [
       "(78, 15)"
      ]
     },
     "execution_count": 32,
     "metadata": {},
     "output_type": "execute_result"
    }
   ],
   "source": [
    "adult_df.shape"
   ]
  },
  {
   "cell_type": "code",
   "execution_count": 33,
   "id": "b50d4442-6b11-4dfb-9ffd-011be3b259a6",
   "metadata": {},
   "outputs": [
    {
     "data": {
      "text/plain": [
       "Index(['age', 'workclass', 'fnlwgt', 'education', 'education-num',\n",
       "       'marital-status', 'occupation', 'relationship', 'race', 'sex',\n",
       "       'capitalGain', 'capitalLoss', 'hoursPerWeek', 'nativeCountry',\n",
       "       'income'],\n",
       "      dtype='object')"
      ]
     },
     "execution_count": 33,
     "metadata": {},
     "output_type": "execute_result"
    }
   ],
   "source": [
    "adult_df.columns"
   ]
  },
  {
   "cell_type": "code",
   "execution_count": 34,
   "id": "d52ffdf7-4b08-4aea-b1bc-9d874085e916",
   "metadata": {},
   "outputs": [
    {
     "data": {
      "text/html": [
       "<div>\n",
       "<style scoped>\n",
       "    .dataframe tbody tr th:only-of-type {\n",
       "        vertical-align: middle;\n",
       "    }\n",
       "\n",
       "    .dataframe tbody tr th {\n",
       "        vertical-align: top;\n",
       "    }\n",
       "\n",
       "    .dataframe thead th {\n",
       "        text-align: right;\n",
       "    }\n",
       "</style>\n",
       "<table border=\"1\" class=\"dataframe\">\n",
       "  <thead>\n",
       "    <tr style=\"text-align: right;\">\n",
       "      <th></th>\n",
       "      <th>age</th>\n",
       "      <th>fnlwgt</th>\n",
       "      <th>education-num</th>\n",
       "      <th>capitalGain</th>\n",
       "      <th>capitalLoss</th>\n",
       "      <th>hoursPerWeek</th>\n",
       "    </tr>\n",
       "  </thead>\n",
       "  <tbody>\n",
       "    <tr>\n",
       "      <th>count</th>\n",
       "      <td>78.000000</td>\n",
       "      <td>78.000000</td>\n",
       "      <td>78.000000</td>\n",
       "      <td>78.000000</td>\n",
       "      <td>78.000000</td>\n",
       "      <td>78.000000</td>\n",
       "    </tr>\n",
       "    <tr>\n",
       "      <th>mean</th>\n",
       "      <td>38.243590</td>\n",
       "      <td>188912.782051</td>\n",
       "      <td>10.243590</td>\n",
       "      <td>369.948718</td>\n",
       "      <td>68.615385</td>\n",
       "      <td>41.435897</td>\n",
       "    </tr>\n",
       "    <tr>\n",
       "      <th>std</th>\n",
       "      <td>12.398351</td>\n",
       "      <td>100659.798528</td>\n",
       "      <td>2.745414</td>\n",
       "      <td>1802.399533</td>\n",
       "      <td>349.444874</td>\n",
       "      <td>12.300976</td>\n",
       "    </tr>\n",
       "    <tr>\n",
       "      <th>min</th>\n",
       "      <td>18.000000</td>\n",
       "      <td>28887.000000</td>\n",
       "      <td>3.000000</td>\n",
       "      <td>0.000000</td>\n",
       "      <td>0.000000</td>\n",
       "      <td>2.000000</td>\n",
       "    </tr>\n",
       "    <tr>\n",
       "      <th>25%</th>\n",
       "      <td>29.000000</td>\n",
       "      <td>116733.250000</td>\n",
       "      <td>9.000000</td>\n",
       "      <td>0.000000</td>\n",
       "      <td>0.000000</td>\n",
       "      <td>40.000000</td>\n",
       "    </tr>\n",
       "    <tr>\n",
       "      <th>50%</th>\n",
       "      <td>38.000000</td>\n",
       "      <td>184999.500000</td>\n",
       "      <td>10.000000</td>\n",
       "      <td>0.000000</td>\n",
       "      <td>0.000000</td>\n",
       "      <td>40.000000</td>\n",
       "    </tr>\n",
       "    <tr>\n",
       "      <th>75%</th>\n",
       "      <td>48.000000</td>\n",
       "      <td>241302.750000</td>\n",
       "      <td>13.000000</td>\n",
       "      <td>0.000000</td>\n",
       "      <td>0.000000</td>\n",
       "      <td>44.750000</td>\n",
       "    </tr>\n",
       "    <tr>\n",
       "      <th>max</th>\n",
       "      <td>79.000000</td>\n",
       "      <td>544091.000000</td>\n",
       "      <td>16.000000</td>\n",
       "      <td>14084.000000</td>\n",
       "      <td>2042.000000</td>\n",
       "      <td>80.000000</td>\n",
       "    </tr>\n",
       "  </tbody>\n",
       "</table>\n",
       "</div>"
      ],
      "text/plain": [
       "             age         fnlwgt  education-num   capitalGain  capitalLoss  \\\n",
       "count  78.000000      78.000000      78.000000     78.000000    78.000000   \n",
       "mean   38.243590  188912.782051      10.243590    369.948718    68.615385   \n",
       "std    12.398351  100659.798528       2.745414   1802.399533   349.444874   \n",
       "min    18.000000   28887.000000       3.000000      0.000000     0.000000   \n",
       "25%    29.000000  116733.250000       9.000000      0.000000     0.000000   \n",
       "50%    38.000000  184999.500000      10.000000      0.000000     0.000000   \n",
       "75%    48.000000  241302.750000      13.000000      0.000000     0.000000   \n",
       "max    79.000000  544091.000000      16.000000  14084.000000  2042.000000   \n",
       "\n",
       "       hoursPerWeek  \n",
       "count     78.000000  \n",
       "mean      41.435897  \n",
       "std       12.300976  \n",
       "min        2.000000  \n",
       "25%       40.000000  \n",
       "50%       40.000000  \n",
       "75%       44.750000  \n",
       "max       80.000000  "
      ]
     },
     "execution_count": 34,
     "metadata": {},
     "output_type": "execute_result"
    }
   ],
   "source": [
    "adult_df.describe()"
   ]
  },
  {
   "cell_type": "code",
   "execution_count": 35,
   "id": "fe76a510-35fd-413e-aa4a-6e2c226e82ee",
   "metadata": {},
   "outputs": [
    {
     "data": {
      "text/plain": [
       "<Axes: ylabel='Frequency'>"
      ]
     },
     "execution_count": 35,
     "metadata": {},
     "output_type": "execute_result"
    },
    {
     "data": {
      "image/png": "[encoded data removed]",
      "text/plain": [
       "<Figure size 640x480 with 1 Axes>"
      ]
     },
     "metadata": {},
     "output_type": "display_data"
    }
   ],
   "source": [
    "adult_df.age.plot.hist()"
   ]
  },
  {
   "cell_type": "code",
   "execution_count": 41,
   "id": "35ff4c26-3305-4cd3-9cb3-d144f7b2a6b4",
   "metadata": {},
   "outputs": [
    {
     "data": {
      "image/png": "[encoded data removed]",
      "text/plain": [
       "<Figure size 640x480 with 1 Axes>"
      ]
     },
     "metadata": {},
     "output_type": "display_data"
    }
   ],
   "source": [
    "import matplotlib.pyplot as plt\n",
    "plt.boxplot(adult_df.age, vert=False)\n",
    "plt.show()"
   ]
  },
  {
   "cell_type": "code",
   "execution_count": null,
   "id": "e0adb6fc-2e22-4678-992a-bf4cd8375c19",
   "metadata": {},
   "outputs": [],
   "source": []
  }
 ],
 "metadata": {
  "kernelspec": {
   "display_name": "Python 3 (ipykernel)",
   "language": "python",
   "name": "python3"
  },
  "language_info": {
   "codemirror_mode": {
    "name": "ipython",
    "version": 3
   },
   "file_extension": ".py",
   "mimetype": "text/x-python",
   "name": "python",
   "nbconvert_exporter": "python",
   "pygments_lexer": "ipython3",
   "version": "3.12.3"
  }
 },
 "nbformat": 4,
 "nbformat_minor": 5
}
