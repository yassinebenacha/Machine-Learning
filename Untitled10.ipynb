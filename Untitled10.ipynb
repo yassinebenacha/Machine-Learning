{
 "cells": [
  {
   "cell_type": "code",
   "execution_count": 4,
   "id": "76122d69-526d-4a58-a8a7-a60b1988a90a",
   "metadata": {},
   "outputs": [],
   "source": [
    "import numpy as np"
   ]
  },
  {
   "cell_type": "code",
   "execution_count": 5,
   "id": "43a47f22-584a-4bd0-8e9c-a155883b9647",
   "metadata": {},
   "outputs": [],
   "source": [
    "list1=[2,4,6,8]"
   ]
  },
  {
   "cell_type": "code",
   "execution_count": 6,
   "id": "535842be-eff8-4ce4-930a-ce26cf65f3bb",
   "metadata": {},
   "outputs": [],
   "source": [
    "array1=np.array(list1)"
   ]
  },
  {
   "cell_type": "code",
   "execution_count": 7,
   "id": "73df9820-8504-4042-80dc-d4ce343fcbcb",
   "metadata": {},
   "outputs": [
    {
     "name": "stdout",
     "output_type": "stream",
     "text": [
      "[2 4 6 8]\n"
     ]
    }
   ],
   "source": [
    "print(array1)"
   ]
  },
  {
   "cell_type": "code",
   "execution_count": 8,
   "id": "46c5beed-8c1e-4627-946b-962d189083ae",
   "metadata": {},
   "outputs": [],
   "source": [
    "array1=np.array([2,4,6,8])"
   ]
  },
  {
   "cell_type": "code",
   "execution_count": 9,
   "id": "22aebca3-0ea7-4f13-ad67-01233a5f43f2",
   "metadata": {},
   "outputs": [
    {
     "name": "stdout",
     "output_type": "stream",
     "text": [
      "[2 4 6 8]\n"
     ]
    }
   ],
   "source": [
    "print(array1)"
   ]
  },
  {
   "cell_type": "code",
   "execution_count": 10,
   "id": "0736e945-90c6-4de6-baa6-526bc22945c4",
   "metadata": {},
   "outputs": [],
   "source": [
    "array1=np.zeros(4)"
   ]
  },
  {
   "cell_type": "code",
   "execution_count": 11,
   "id": "3aa77609-670c-4639-8315-018b7fa047b2",
   "metadata": {},
   "outputs": [
    {
     "name": "stdout",
     "output_type": "stream",
     "text": [
      "[0. 0. 0. 0.]\n"
     ]
    }
   ],
   "source": [
    "print(array1)"
   ]
  },
  {
   "cell_type": "code",
   "execution_count": 12,
   "id": "ba55a2b2-7e1a-4423-88df-5a8f3a2f2469",
   "metadata": {},
   "outputs": [],
   "source": [
    "array1=np.arange(5)"
   ]
  },
  {
   "cell_type": "code",
   "execution_count": 13,
   "id": "7d1d483e-3cda-404f-9677-27c9a06e36f2",
   "metadata": {},
   "outputs": [
    {
     "name": "stdout",
     "output_type": "stream",
     "text": [
      "using np.arange(5) [0 1 2 3 4]\n"
     ]
    }
   ],
   "source": [
    "print(\"using np.arange(5)\", array1)"
   ]
  },
  {
   "cell_type": "code",
   "execution_count": 14,
   "id": "e52ff03f-66a2-450b-b2a4-454540e086ac",
   "metadata": {},
   "outputs": [],
   "source": [
    "array2=np.arange(1,9,2)"
   ]
  },
  {
   "cell_type": "code",
   "execution_count": 15,
   "id": "432ff694-535d-4e18-9140-982399cd724e",
   "metadata": {},
   "outputs": [
    {
     "name": "stdout",
     "output_type": "stream",
     "text": [
      "using np.arrange(1,9,2) [1 3 5 7]\n"
     ]
    }
   ],
   "source": [
    "print(\"using np.arrange(1,9,2)\" ,array2)"
   ]
  },
  {
   "cell_type": "code",
   "execution_count": 16,
   "id": "e08df652-9aa3-411e-b5d3-d85e9bf59fb2",
   "metadata": {},
   "outputs": [],
   "source": [
    "array1=np.random.rand(5)"
   ]
  },
  {
   "cell_type": "code",
   "execution_count": 17,
   "id": "13e154af-6ed4-43ec-b978-3405fff439f6",
   "metadata": {},
   "outputs": [
    {
     "name": "stdout",
     "output_type": "stream",
     "text": [
      "[0.4656648  0.31275845 0.88482509 0.41482412 0.62921638]\n"
     ]
    }
   ],
   "source": [
    "print(array1)"
   ]
  },
  {
   "cell_type": "code",
   "execution_count": 18,
   "id": "43aebacb-1fb5-4b82-bf38-d15937b98151",
   "metadata": {},
   "outputs": [],
   "source": [
    "array1=np.empty(4)"
   ]
  },
  {
   "cell_type": "code",
   "execution_count": 19,
   "id": "703e3ed4-47f4-44a3-866e-213ac748e226",
   "metadata": {},
   "outputs": [
    {
     "name": "stdout",
     "output_type": "stream",
     "text": [
      "[0. 0. 0. 0.]\n"
     ]
    }
   ],
   "source": [
    "print (array1)"
   ]
  },
  {
   "cell_type": "code",
   "execution_count": 20,
   "id": "ec18a43c-63be-4c2b-a93d-d9538134885e",
   "metadata": {},
   "outputs": [],
   "source": [
    "array1=np.array([[1,2,3,4],\n",
    "                 [5,6,7,8]])"
   ]
  },
  {
   "cell_type": "code",
   "execution_count": 21,
   "id": "ada95027-fb57-45db-955a-1e62f27b0018",
   "metadata": {},
   "outputs": [
    {
     "name": "stdout",
     "output_type": "stream",
     "text": [
      "[[1 2 3 4]\n",
      " [5 6 7 8]]\n"
     ]
    }
   ],
   "source": [
    "print(array1)"
   ]
  },
  {
   "cell_type": "code",
   "execution_count": 22,
   "id": "02d3b963-2bdb-43f7-b2ae-b27dda0976b2",
   "metadata": {},
   "outputs": [],
   "source": [
    "array1=np.array([[[1,2,3,4],\n",
    "                  [5,6,7,8],\n",
    "                  [9,10,11,12]],\n",
    "                 [[13,14,15,16],\n",
    "                  [17,18,19,20],\n",
    "                  [21,22,23,24]]])"
   ]
  },
  {
   "cell_type": "code",
   "execution_count": 23,
   "id": "50d8e425-32dc-4fef-9b80-5b17e2170a12",
   "metadata": {},
   "outputs": [
    {
     "name": "stdout",
     "output_type": "stream",
     "text": [
      "[[[ 1  2  3  4]\n",
      "  [ 5  6  7  8]\n",
      "  [ 9 10 11 12]]\n",
      "\n",
      " [[13 14 15 16]\n",
      "  [17 18 19 20]\n",
      "  [21 22 23 24]]]\n"
     ]
    }
   ],
   "source": [
    "print(array1)"
   ]
  },
  {
   "cell_type": "code",
   "execution_count": 24,
   "id": "544f250e-bf67-4b0d-8780-cb44c3e129d7",
   "metadata": {},
   "outputs": [],
   "source": [
    "array1=np.array((2,3))"
   ]
  },
  {
   "cell_type": "code",
   "execution_count": 25,
   "id": "12b766d8-043b-44af-9da8-2139f11d775b",
   "metadata": {},
   "outputs": [
    {
     "name": "stdout",
     "output_type": "stream",
     "text": [
      "tableaux 2D [2 3]\n"
     ]
    }
   ],
   "source": [
    "print(\"tableaux 2D\" ,array1)"
   ]
  },
  {
   "cell_type": "code",
   "execution_count": 26,
   "id": "d57dcdc7-b726-4a4c-b883-9ffd225893f1",
   "metadata": {},
   "outputs": [
    {
     "name": "stdout",
     "output_type": "stream",
     "text": [
      "[2 3]\n"
     ]
    }
   ],
   "source": [
    "print(array1)"
   ]
  },
  {
   "cell_type": "code",
   "execution_count": 27,
   "id": "ea672784-9821-4786-aabf-4d6b1c5bc527",
   "metadata": {},
   "outputs": [],
   "source": [
    "array2=np.zeros((2,3,4))"
   ]
  },
  {
   "cell_type": "code",
   "execution_count": 28,
   "id": "e24a56c8-7eb7-42b5-a024-c28d8aa524f0",
   "metadata": {},
   "outputs": [
    {
     "name": "stdout",
     "output_type": "stream",
     "text": [
      "tableaux 3d\n"
     ]
    }
   ],
   "source": [
    "print(\"tableaux 3d\")"
   ]
  },
  {
   "cell_type": "code",
   "execution_count": 29,
   "id": "b858793b-4518-4d16-a020-dd98b7a1860d",
   "metadata": {},
   "outputs": [
    {
     "name": "stdout",
     "output_type": "stream",
     "text": [
      "[[[0. 0. 0. 0.]\n",
      "  [0. 0. 0. 0.]\n",
      "  [0. 0. 0. 0.]]\n",
      "\n",
      " [[0. 0. 0. 0.]\n",
      "  [0. 0. 0. 0.]\n",
      "  [0. 0. 0. 0.]]]\n"
     ]
    }
   ],
   "source": [
    "print(array2)"
   ]
  },
  {
   "cell_type": "code",
   "execution_count": 30,
   "id": "8b07c780-87f1-48f4-9e3b-3eb614a96360",
   "metadata": {},
   "outputs": [],
   "source": [
    "array2=np.ones((2,3,4))"
   ]
  },
  {
   "cell_type": "code",
   "execution_count": 31,
   "id": "a99a84fb-1023-46c9-b24e-a64c22ff8e77",
   "metadata": {},
   "outputs": [
    {
     "name": "stdout",
     "output_type": "stream",
     "text": [
      "[[[1. 1. 1. 1.]\n",
      "  [1. 1. 1. 1.]\n",
      "  [1. 1. 1. 1.]]\n",
      "\n",
      " [[1. 1. 1. 1.]\n",
      "  [1. 1. 1. 1.]\n",
      "  [1. 1. 1. 1.]]]\n"
     ]
    }
   ],
   "source": [
    "print(array2)"
   ]
  },
  {
   "cell_type": "code",
   "execution_count": 32,
   "id": "5852cdec-61ca-41b3-803b-d2e28c2eff15",
   "metadata": {},
   "outputs": [],
   "source": [
    "numpy_array=np.full((2,2),5)"
   ]
  },
  {
   "cell_type": "code",
   "execution_count": 33,
   "id": "18004d16-771e-43bf-b59e-08879ab93e6e",
   "metadata": {},
   "outputs": [
    {
     "name": "stdout",
     "output_type": "stream",
     "text": [
      "Tableau [[5 5]\n",
      " [5 5]]\n"
     ]
    }
   ],
   "source": [
    "print(\"Tableau\",numpy_array)"
   ]
  },
  {
   "cell_type": "code",
   "execution_count": 34,
   "id": "863162a5-8f44-4640-922a-c04a9252f590",
   "metadata": {},
   "outputs": [
    {
     "name": "stdout",
     "output_type": "stream",
     "text": [
      "[[0.40328743 0.95123863]\n",
      " [0.43997616 0.72696291]]\n"
     ]
    }
   ],
   "source": [
    "array1=np.random.rand(2,2)\n",
    "print(array1)"
   ]
  },
  {
   "cell_type": "code",
   "execution_count": 35,
   "id": "da33203b-ef0a-4f66-a727-d27ec2550c7d",
   "metadata": {},
   "outputs": [],
   "source": [
    "array2=np.random.rand(2,2,2)"
   ]
  },
  {
   "cell_type": "code",
   "execution_count": 36,
   "id": "700c831d-5331-4898-92b3-07d8b28a2e61",
   "metadata": {},
   "outputs": [
    {
     "name": "stdout",
     "output_type": "stream",
     "text": [
      "[[[0.60668784 0.68371886]\n",
      "  [0.60174927 0.09470741]]\n",
      "\n",
      " [[0.10502524 0.09355839]\n",
      "  [0.8025948  0.26910867]]]\n"
     ]
    }
   ],
   "source": [
    "print(array2)"
   ]
  },
  {
   "cell_type": "code",
   "execution_count": 37,
   "id": "5886736e-8c5d-4f20-90d0-6d91fb5ef50d",
   "metadata": {},
   "outputs": [
    {
     "name": "stdout",
     "output_type": "stream",
     "text": [
      "tableau 2D:\n",
      "[[0.40328743 0.95123863]\n",
      " [0.43997616 0.72696291]]\n"
     ]
    }
   ],
   "source": [
    "array1=np.empty((2,2))\n",
    "print(\"tableau 2D:\")\n",
    "print(array1)"
   ]
  },
  {
   "cell_type": "code",
   "execution_count": 38,
   "id": "c54b6a9b-f717-4284-bcaa-5e48dbf74105",
   "metadata": {},
   "outputs": [
    {
     "name": "stdout",
     "output_type": "stream",
     "text": [
      "tableau 3D:\n",
      "[[[0.60668784 0.68371886]\n",
      "  [0.60174927 0.09470741]]\n",
      "\n",
      " [[0.10502524 0.09355839]\n",
      "  [0.8025948  0.26910867]]]\n"
     ]
    }
   ],
   "source": [
    "array2=np.empty((2,2,2))\n",
    "print(\"tableau 3D:\")\n",
    "print(array2)"
   ]
  },
  {
   "cell_type": "code",
   "execution_count": 39,
   "id": "37f61a53-b284-42ca-85c6-bb0056004531",
   "metadata": {},
   "outputs": [],
   "source": [
    "array1=np.array([2,4,6])"
   ]
  },
  {
   "cell_type": "code",
   "execution_count": 40,
   "id": "3faa90f2-2d75-44c1-be8c-29dd5b1aaed4",
   "metadata": {},
   "outputs": [
    {
     "name": "stdout",
     "output_type": "stream",
     "text": [
      "int64\n"
     ]
    }
   ],
   "source": [
    "print(array1.dtype)"
   ]
  },
  {
   "cell_type": "code",
   "execution_count": 41,
   "id": "6dd6d403-696c-4d78-9723-1e5121bf74c7",
   "metadata": {},
   "outputs": [],
   "source": [
    "array1=np.array([1,3,7], dtype='int32')"
   ]
  },
  {
   "cell_type": "code",
   "execution_count": 42,
   "id": "08eb5115-5cac-4c88-8302-d7f0174450db",
   "metadata": {},
   "outputs": [
    {
     "name": "stdout",
     "output_type": "stream",
     "text": [
      "[1 3 7] int32\n"
     ]
    }
   ],
   "source": [
    "print(array1,array1.dtype)"
   ]
  },
  {
   "cell_type": "markdown",
   "id": "591ec021-6eaa-4e0a-9a53-60310fb724aa",
   "metadata": {},
   "source": [
    "<h3>Conversion de Type Numpy</h3>"
   ]
  },
  {
   "cell_type": "code",
   "execution_count": 43,
   "id": "49311b3e-f057-4099-9830-4771b769bdbb",
   "metadata": {},
   "outputs": [],
   "source": [
    "int_array=np.array([1,3,5,7])"
   ]
  },
  {
   "cell_type": "code",
   "execution_count": 44,
   "id": "ee1ef28d-b13b-4e3e-8f58-7f4c4d983015",
   "metadata": {},
   "outputs": [],
   "source": [
    "float_array=int_array.astype('float')"
   ]
  },
  {
   "cell_type": "code",
   "execution_count": 45,
   "id": "c6e74267-6b29-43e4-9838-8fe56e8996c0",
   "metadata": {},
   "outputs": [
    {
     "name": "stdout",
     "output_type": "stream",
     "text": [
      "[1 3 5 7] int64\n"
     ]
    }
   ],
   "source": [
    "print(int_array,int_array.dtype)"
   ]
  },
  {
   "cell_type": "code",
   "execution_count": 46,
   "id": "eac701d9-3535-4388-84a2-ace5a75e4e28",
   "metadata": {},
   "outputs": [
    {
     "name": "stdout",
     "output_type": "stream",
     "text": [
      "[1. 3. 5. 7.] float64\n"
     ]
    }
   ],
   "source": [
    "print(float_array,float_array.dtype)"
   ]
  },
  {
   "cell_type": "markdown",
   "id": "13c6680f-ac1b-45f7-baad-fd9367dadba2",
   "metadata": {},
   "source": [
    "<h2>Attributs des tableau Numpy</h2>"
   ]
  },
  {
   "cell_type": "markdown",
   "id": "1086106f-613e-4611-9129-882404a38ca9",
   "metadata": {},
   "source": [
    "<h3>Attribut ndim d un tableau Numpy</h3>"
   ]
  },
  {
   "cell_type": "code",
   "execution_count": 47,
   "id": "f5308c83-22e3-4dfc-83f8-bcc6dd99a0dd",
   "metadata": {},
   "outputs": [],
   "source": [
    "array1=np.array([[2,4,6],[1,3,5]])"
   ]
  },
  {
   "cell_type": "code",
   "execution_count": 48,
   "id": "2c9a46de-9be3-4c05-a1d9-866b0f5294fe",
   "metadata": {},
   "outputs": [
    {
     "name": "stdout",
     "output_type": "stream",
     "text": [
      "2\n",
      "6\n",
      "int64\n",
      "(2, 3)\n",
      "8\n",
      "<memory at 0x000002CE61E15970>\n"
     ]
    }
   ],
   "source": [
    "#dimentient de tableau\n",
    "print(array1.ndim)\n",
    "#nbr element de Tableau\n",
    "print(array1.size)\n",
    "#Type de des donnee\n",
    "print(array1.dtype)\n",
    "#la taille de tableau de chaque dimension\n",
    "print(array1.shape)\n",
    "#la taille en octete de chaque element de T\n",
    "print(array1.itemsize)\n",
    "#Affiche l'objet buffer (adresse mémoire)\n",
    "print(array1.data)"
   ]
  },
  {
   "cell_type": "code",
   "execution_count": 49,
   "id": "5b021570-86dd-4f3d-a9e9-b4ddf829b369",
   "metadata": {},
   "outputs": [],
   "source": [
    "array1=np.array([[1,3,5],[7,9,10]])\n",
    "np.save('file1.npy',array1)"
   ]
  },
  {
   "cell_type": "code",
   "execution_count": 50,
   "id": "2e9d174f-98e5-4f17-bb93-f4e53a2144bb",
   "metadata": {},
   "outputs": [],
   "source": [
    "tableau_charge=np.load('file1.npy')"
   ]
  },
  {
   "cell_type": "markdown",
   "id": "0ffacf85-22e0-42ea-afef-a333b9f42893",
   "metadata": {},
   "source": [
    "# la page 8"
   ]
  },
  {
   "cell_type": "code",
   "execution_count": 51,
   "id": "19de01b6-e671-48c4-983e-febc2bd13e32",
   "metadata": {},
   "outputs": [
    {
     "name": "stdout",
     "output_type": "stream",
     "text": [
      "6\n"
     ]
    }
   ],
   "source": [
    "print(array1.size)"
   ]
  },
  {
   "cell_type": "code",
   "execution_count": 52,
   "id": "41566905-ba00-45fa-b8c2-f88e636415db",
   "metadata": {},
   "outputs": [],
   "source": [
    "array1=np.array([[1,2,3],[6,7,8]])"
   ]
  },
  {
   "cell_type": "code",
   "execution_count": 53,
   "id": "1450d538-606b-41ca-bee1-49d16d827542",
   "metadata": {},
   "outputs": [
    {
     "data": {
      "text/plain": [
       "(2, 3)"
      ]
     },
     "execution_count": 53,
     "metadata": {},
     "output_type": "execute_result"
    }
   ],
   "source": [
    "array1.shape"
   ]
  },
  {
   "cell_type": "markdown",
   "id": "af2c3f02-835d-4d27-9758-70439b57d4a7",
   "metadata": {},
   "source": [
    "les fonctions dentreé et sorter"
   ]
  },
  {
   "cell_type": "code",
   "execution_count": 54,
   "id": "e6215fc1-f0f6-4f9d-85b7-b017c5041063",
   "metadata": {},
   "outputs": [
    {
     "name": "stdout",
     "output_type": "stream",
     "text": [
      "[[1 2 3]\n",
      " [6 7 8]]\n"
     ]
    }
   ],
   "source": [
    "# Save the array to a `.npy` file\n",
    "np.save('array1.npy', array1)\n",
    "# Load the array from the file\n",
    "loaded_array = np.load('array1.npy')\n",
    "# Print the loaded array\n",
    "print(loaded_array)"
   ]
  },
  {
   "cell_type": "markdown",
   "id": "9af77d56-0a15-44cf-85dc-6d4a77bb166d",
   "metadata": {},
   "source": [
    "# P9"
   ]
  },
  {
   "cell_type": "code",
   "execution_count": 55,
   "id": "ddf4831c-f7f3-4784-a2ef-be36cce5413f",
   "metadata": {},
   "outputs": [
    {
     "name": "stdout",
     "output_type": "stream",
     "text": [
      "[[ 1  3  5]\n",
      " [ 7  9 10]]\n"
     ]
    }
   ],
   "source": [
    "# Chargement du tableau NumPy sauvegardé \n",
    "tableau_chargé = np.load('file1.npy')\n",
    "# affiche le tableau chargé \n",
    "print(tableau_chargé) \n"
   ]
  },
  {
   "cell_type": "markdown",
   "id": "eca39f73-8a16-40e4-9030-1e1afcb95410",
   "metadata": {},
   "source": [
    "# P10"
   ]
  },
  {
   "cell_type": "markdown",
   "id": "558e9655-c8f2-488a-82f6-c60c20e1f092",
   "metadata": {},
   "source": [
    "Découpage de tableau NumPy "
   ]
  },
  {
   "cell_type": "code",
   "execution_count": 56,
   "id": "5ebeacee-c5e9-4829-a047-859c73ddc36e",
   "metadata": {},
   "outputs": [
    {
     "name": "stdout",
     "output_type": "stream",
     "text": [
      "[5 7 8 9]\n",
      "[1 5 8 2]\n",
      "[7 8 9 2 4 6]\n",
      "[1 3 5 7 8 9 2 4 6]\n"
     ]
    }
   ],
   "source": [
    "# Création d'un tableau 1D \n",
    "array1 = np.array([1, 3, 5, 7, 8, 9, 2, 4, 6])\n",
    "# découpe arrayl de l'index 2 à l'index 6 (exclusif)\n",
    "print(array1[2:6])  \n",
    "# découpe le tableau 1 de l'index 0 à l'index 8 (exclusif) avec un pas de 2\n",
    "print(array1[0:8:2]) \n",
    "# découpe arrayl de l'index 3 jusqu'au dernier élément \n",
    "print(array1[3 :]) \n",
    "# éléments du début à la fin\n",
    "print(array1[ :])"
   ]
  },
  {
   "cell_type": "markdown",
   "id": "e2bed47c-67dd-4606-abe8-d8b8ef6d1204",
   "metadata": {},
   "source": [
    "# P11"
   ]
  },
  {
   "cell_type": "code",
   "execution_count": 58,
   "id": "b931813b-0588-476e-9352-ed0df835cf65",
   "metadata": {},
   "outputs": [
    {
     "name": "stdout",
     "output_type": "stream",
     "text": [
      "[ 2  4  6 20 20 20]\n"
     ]
    }
   ],
   "source": [
    "# créer un tableau numpy \n",
    "numbers = np.array([2, 4, 6, 8, 10, 12]) \n",
    "# modifier les éléments à partir de l'indice 3 \n",
    "numbers[3 :] = 20 \n",
    "print (numbers) "
   ]
  },
  {
   "cell_type": "code",
   "execution_count": 59,
   "id": "c954079e-d7fb-4f12-8f12-ac52bf796135",
   "metadata": {},
   "outputs": [
    {
     "name": "stdout",
     "output_type": "stream",
     "text": [
      "[40 40 40 20 20 20]\n"
     ]
    }
   ],
   "source": [
    "numbers[:3]= 40\n",
    "print(numbers)"
   ]
  },
  {
   "cell_type": "code",
   "execution_count": 60,
   "id": "e70b3286-b891-425e-8477-efae4fd6d777",
   "metadata": {},
   "outputs": [
    {
     "name": "stdout",
     "output_type": "stream",
     "text": [
      "[ 2  4 22 22 22 12]\n"
     ]
    }
   ],
   "source": [
    "numbers = np.array([2, 4, 6, 8, 10, 12]) \n",
    "numbers[2:5]=22\n",
    "print(numbers)"
   ]
  },
  {
   "cell_type": "code",
   "execution_count": 61,
   "id": "82202935-3e5f-42b9-92e1-65c0b4451495",
   "metadata": {},
   "outputs": [
    {
     "name": "stdout",
     "output_type": "stream",
     "text": [
      "[ 2 16  6 16 10 16 12]\n"
     ]
    }
   ],
   "source": [
    "numbers = np.array([2, 4, 6, 8, 10, 11,12]) \n",
    "numbers[1:6:2]=16\n",
    "print(numbers)"
   ]
  },
  {
   "cell_type": "code",
   "execution_count": 67,
   "id": "4bba4669-efe2-41af-be98-e8eb129be06f",
   "metadata": {},
   "outputs": [
    {
     "data": {
      "text/plain": [
       "array([ 8, 10, 12])"
      ]
     },
     "execution_count": 67,
     "metadata": {},
     "output_type": "execute_result"
    }
   ],
   "source": [
    "numbers = np.array([2, 4, 6, 8, 10,12]) \n",
    "numbers[-3:]"
   ]
  },
  {
   "cell_type": "code",
   "execution_count": 68,
   "id": "c8eec653-58ff-4ea2-9cd3-575456e16d18",
   "metadata": {},
   "outputs": [
    {
     "data": {
      "text/plain": [
       "array([4, 6, 8])"
      ]
     },
     "execution_count": 68,
     "metadata": {},
     "output_type": "execute_result"
    }
   ],
   "source": [
    "numbers[-5:-2]"
   ]
  },
  {
   "cell_type": "code",
   "execution_count": 70,
   "id": "16b5cadf-62c5-42c9-85e2-27c914af2ed8",
   "metadata": {},
   "outputs": [
    {
     "data": {
      "text/plain": [
       "array([12,  8,  4])"
      ]
     },
     "execution_count": 70,
     "metadata": {},
     "output_type": "execute_result"
    }
   ],
   "source": [
    "numbers[-1::-2]"
   ]
  },
  {
   "cell_type": "markdown",
   "id": "e11b4ef3-612a-4450-95aa-84fe2da9880c",
   "metadata": {},
   "source": [
    "# P12"
   ]
  },
  {
   "cell_type": "code",
   "execution_count": 73,
   "id": "24874d78-b0e8-4b4b-85f9-a514ea0ffc75",
   "metadata": {},
   "outputs": [
    {
     "data": {
      "text/plain": [
       "array([12, 10,  8,  6,  4,  2])"
      ]
     },
     "execution_count": 73,
     "metadata": {},
     "output_type": "execute_result"
    }
   ],
   "source": [
    "numbers = np.array([2, 4, 6, 8, 10,12]) \n",
    "numbers_inverses = numbers[::-1]\n",
    "numbers_inverses"
   ]
  },
  {
   "cell_type": "code",
   "execution_count": 75,
   "id": "6a14c1a9-3c71-4d21-92a7-e84000a67dde",
   "metadata": {},
   "outputs": [
    {
     "data": {
      "text/plain": [
       "array([[ 1,  3],\n",
       "       [ 9, 11]])"
      ]
     },
     "execution_count": 75,
     "metadata": {},
     "output_type": "execute_result"
    }
   ],
   "source": [
    "numbers = np.array([[1, 3, 5, 7],[9,11,13,15]]) \n",
    "numbers[:2, :2]"
   ]
  },
  {
   "cell_type": "code",
   "execution_count": 81,
   "id": "707d9f83-a0ae-41b5-a6ab-8d7e47b0c7fe",
   "metadata": {},
   "outputs": [],
   "source": [
    "array1= np.array([[1, 3, 5, 7],\n",
    "                   [9, 11,13,15],\n",
    "                   [2,4,6,8]]) \n",
    "subarray1=array1[:2, :2]\n",
    "subarray2=array1[1:3,2:4]"
   ]
  },
  {
   "cell_type": "code",
   "execution_count": 84,
   "id": "61ec0c12-1ed5-4340-96ab-f435426cfa5c",
   "metadata": {},
   "outputs": [
    {
     "name": "stdout",
     "output_type": "stream",
     "text": [
      "Deux premières lignes et colonnes : \n",
      "  [[ 1  3]\n",
      " [ 9 11]]\n",
      " Deux dernières lignes et colonnes : \n",
      "  [[13 15]\n",
      " [ 6  8]]\n"
     ]
    }
   ],
   "source": [
    "print(\"Deux premières lignes et colonnes : \\n \",subarray1) \n",
    "print(\" Deux dernières lignes et colonnes : \\n \",subarray2) "
   ]
  },
  {
   "cell_type": "markdown",
   "id": "df2e54ff-7bef-46c0-b51f-9bc0e6756a70",
   "metadata": {},
   "source": [
    "# P14"
   ]
  },
  {
   "cell_type": "code",
   "execution_count": 85,
   "id": "07fc7e36-573e-4339-a638-1f7269570f9b",
   "metadata": {},
   "outputs": [
    {
     "name": "stdout",
     "output_type": "stream",
     "text": [
      "[[1 3 5 7]\n",
      " [2 4 6 8]]\n"
     ]
    }
   ],
   "source": [
    "arrayl = np.array([1, 3, 5, 7, 2, 4, 6, 8]) \n",
    "#transformer un tableau 1D en un tableau 2D \n",
    "#avec 2 lignes et 4 colonnes \n",
    "result = np.reshape(arrayl, (2, 4)) \n",
    "print(result) "
   ]
  },
  {
   "cell_type": "code",
   "execution_count": 91,
   "id": "5ea210ce-939e-499a-b0c4-bde25eb18c2d",
   "metadata": {},
   "outputs": [
    {
     "name": "stdout",
     "output_type": "stream",
     "text": [
      "Avec 4 lignes et 2 colonnes : \n",
      "  [[1 3]\n",
      " [5 7]\n",
      " [2 4]\n",
      " [6 8]]\n",
      "\n",
      " Avec une seule ligne : \n",
      "  [[1 3 5 7 2 4 6 8]]\n"
     ]
    }
   ],
   "source": [
    "array1 = np.array([1, 3, 5, 7, 2, 4, 6, 8]) \n",
    "result1 = np.reshape(array1, (4, 2)) \n",
    "print(\"Avec 4 lignes et 2 colonnes : \\n \",result1) \n",
    "result2 = np.reshape(arrayl, (1, 8)) \n",
    "print(\"\\n Avec une seule ligne : \\n \",result2)"
   ]
  },
  {
   "cell_type": "markdown",
   "id": "2b8f4899-cdcc-494a-8074-5ce3074dd2bd",
   "metadata": {},
   "source": [
    "# P15"
   ]
  },
  {
   "cell_type": "code",
   "execution_count": 93,
   "id": "4557007f-2c68-4be9-a941-ee3a9d001f7e",
   "metadata": {},
   "outputs": [
    {
     "name": "stdout",
     "output_type": "stream",
     "text": [
      "Tableau 1D & 3D : \n",
      "  [[[1 3]\n",
      "  [5 7]]\n",
      "\n",
      " [[2 4]\n",
      "  [6 8]]]\n"
     ]
    }
   ],
   "source": [
    "array1 = np.array([1, 3, 5, 7, 2, 4, 6, 8]) \n",
    "result = np.reshape (array1, (2, 2, 2)) \n",
    "print(\"Tableau 1D & 3D : \\n \",result)"
   ]
  },
  {
   "cell_type": "code",
   "execution_count": 101,
   "id": "203bc9dc-bf23-4de8-a057-bb63098f9288",
   "metadata": {},
   "outputs": [
    {
     "name": "stdout",
     "output_type": "stream",
     "text": [
      "Tableau 2D aplati :  [ 1 31  5 71  9 11]\n",
      "Tableau 3D aplati :  [1 3 5 7 2 4 6 8]\n"
     ]
    }
   ],
   "source": [
    "array1 = np.array([[1, 31], [5, 71], [9, 11]]) \n",
    "result1 = np.reshape(array1, -1) \n",
    "print(\"Tableau 2D aplati : \", result1) \n",
    "array2 = np.array([[[1, 3], [5, 7]], [[2, 4], [6, 8]]]) \n",
    "result2 = np.reshape (array2, -1) \n",
    "print(\"Tableau 3D aplati : \", result2) "
   ]
  },
  {
   "cell_type": "markdown",
   "id": "a8dcea1d-8733-4f1a-bf91-f0f7d5ef1d96",
   "metadata": {},
   "source": [
    "# P16"
   ]
  },
  {
   "cell_type": "code",
   "execution_count": 105,
   "id": "296c7d10-f920-449c-8c8e-1494debd8af5",
   "metadata": {},
   "outputs": [
    {
     "name": "stdout",
     "output_type": "stream",
     "text": [
      " Utilisation de l'opérateur - :  [ 1  5 19 65]\n",
      "Utilisation de la fonction subtract() :  [ 1  5 19 65]\n"
     ]
    }
   ],
   "source": [
    "premier_tableau = np.array([3, 9, 27, 81]) \n",
    "deuxieme_tableau = np.array([2, 4, 8, 16]) \n",
    "result1 = premier_tableau - deuxieme_tableau \n",
    "print(\" Utilisation de l'opérateur - : \",result1) \n",
    "result2 = np.subtract(premier_tableau, deuxieme_tableau) \n",
    "print(\"Utilisation de la fonction subtract() : \",result2) "
   ]
  },
  {
   "cell_type": "markdown",
   "id": "83f6a352-037a-4cde-8a45-4b79e8802c9a",
   "metadata": {},
   "source": [
    "# P17"
   ]
  },
  {
   "cell_type": "code",
   "execution_count": 106,
   "id": "b7573651-78ae-4e11-a7c2-2facbb0b97ad",
   "metadata": {},
   "outputs": [
    {
     "name": "stdout",
     "output_type": "stream",
     "text": [
      "Utilisation de l'opérateur * : [ 2 12 30 56]\n",
      "Utilisation de la fonction multiply() : [ 2 12 30 56]\n",
      "Addition avec broadcasting : [[2]\n",
      " [4]\n",
      " [6]]\n",
      "Addition avec répétition : [[2 3 4]\n",
      " [3 4 5]\n",
      " [4 5 6]]\n"
     ]
    }
   ],
   "source": [
    "first_array = np.array([1, 3, 5, 7])\n",
    "second_array = np.array([2, 4, 6, 8])\n",
    "result1 = first_array * second_array\n",
    "print(\"Utilisation de l'opérateur * :\", result1)\n",
    "result2 = np.multiply(first_array, second_array)\n",
    "print(\"Utilisation de la fonction multiply() :\", result2)\n",
    "array1 = np.array([1, 2, 3])\n",
    "array2 = np.array([[1], [2], [3]])\n",
    "array2_sum = array2 + array1[:, np.newaxis]\n",
    "print(\"Addition avec broadcasting :\", array2_sum)\n",
    "array1_repeated = np.tile(array1, (3, 1))\n",
    "array2_sum_repeated = array1_repeated + array2\n",
    "print(\"Addition avec répétition :\", array2_sum_repeated)"
   ]
  },
  {
   "cell_type": "markdown",
   "id": "0f6f70c8-4b51-4624-bb0c-4b81e107400d",
   "metadata": {},
   "source": [
    "# p18"
   ]
  },
  {
   "cell_type": "code",
   "execution_count": 110,
   "id": "8b94a306-eb6b-4e4c-8d15-e7f7aadf87ef",
   "metadata": {},
   "outputs": [
    {
     "name": "stdout",
     "output_type": "stream",
     "text": [
      "Somme : [6 7 8]\n"
     ]
    }
   ],
   "source": [
    "import numpy as np\n",
    "\n",
    "# Tableau 1-D\n",
    "array1 = np.array([1, 2, 3])\n",
    "\n",
    "# Scalaire\n",
    "nombre = 5\n",
    "\n",
    "# Addition d'un scalaire à un tableau 1-D\n",
    "somme = array1 + nombre\n",
    "print(\"Somme :\", somme)"
   ]
  },
  {
   "cell_type": "markdown",
   "id": "23dd031d-9d86-4f00-9692-91c0f6dc5650",
   "metadata": {},
   "source": [
    "# 19"
   ]
  },
  {
   "cell_type": "code",
   "execution_count": 111,
   "id": "7a468fd6-5c93-4a45-a271-3efabe0777ea",
   "metadata": {},
   "outputs": [
    {
     "name": "stdout",
     "output_type": "stream",
     "text": [
      "Produit : [ 5 10 15]\n",
      "Division : [0.2 0.4 0.6]\n"
     ]
    }
   ],
   "source": [
    "import numpy as np\n",
    "\n",
    "array1 = np.array([1, 2, 3])\n",
    "nombre = 5\n",
    "\n",
    "# Multiplication\n",
    "produit = array1 * nombre\n",
    "print(\"Produit :\", produit)  # Output: [ 5 10 15]\n",
    "\n",
    "# Division\n",
    "division = array1 / nombre\n",
    "print(\"Division :\", division)  # Output: [0.2 0.4 0.6]"
   ]
  },
  {
   "cell_type": "markdown",
   "id": "41e6eaf3-3102-4553-8037-23e73fd4214a",
   "metadata": {},
   "source": [
    "# 20"
   ]
  },
  {
   "cell_type": "code",
   "execution_count": 113,
   "id": "a687dd69-a1c3-4758-8770-07266609ac7e",
   "metadata": {},
   "outputs": [
    {
     "name": "stdout",
     "output_type": "stream",
     "text": [
      "matrix1 x matrix2 :\n",
      " [[14 30]\n",
      " [38 86]]\n",
      "Transposée de matrix1 :\n",
      " [[1 5]\n",
      " [3 7]]\n"
     ]
    }
   ],
   "source": [
    "import numpy as np\n",
    "\n",
    "# Création de deux matrices de même taille\n",
    "matrix1 = np.array([[1, 3],\n",
    "                    [5, 7]])\n",
    "matrix2 = np.array([[2, 6],\n",
    "                    [4, 8]])\n",
    "\n",
    "# Calcul du produit scalaire\n",
    "result = np.dot(matrix1, matrix2)\n",
    "print(\"matrix1 x matrix2 :\\n\", result)\n",
    "\n",
    "# Création d'une matrice et calcul de sa transposée\n",
    "matrix1 = np.array([[1, 3],\n",
    "                    [5, 7]])\n",
    "result = np.transpose(matrix1)\n",
    "print(\"Transposée de matrix1 :\\n\", result)"
   ]
  },
  {
   "cell_type": "markdown",
   "id": "35fd119e-3b4a-4d02-96f4-eae477b297fa",
   "metadata": {},
   "source": [
    "# 21"
   ]
  },
  {
   "cell_type": "code",
   "execution_count": 114,
   "id": "f7890b34-1747-4a68-8ebd-58522b49a662",
   "metadata": {},
   "outputs": [
    {
     "name": "stdout",
     "output_type": "stream",
     "text": [
      "L'inverse de la matrice est :\n",
      " [[-1.15384615  1.         -0.23076923]\n",
      " [ 1.23076923 -2.          0.84615385]\n",
      " [-0.30769231  1.         -0.46153846]]\n"
     ]
    }
   ],
   "source": [
    "import numpy as np\n",
    "\n",
    "# Création d'une matrice carrée 3x3\n",
    "matrix1 = np.array([[1, 3, 5],\n",
    "                    [4, 6, 9],\n",
    "                    [8, 11, 14]])\n",
    "\n",
    "# Calcul de l'inverse de la matrice\n",
    "try:\n",
    "    result = np.linalg.inv(matrix1)\n",
    "    print(\"L'inverse de la matrice est :\\n\", result)\n",
    "except np.linalg.LinAlgError:\n",
    "    print(\"La matrice n'est pas inversible.\")"
   ]
  },
  {
   "cell_type": "markdown",
   "id": "7f857766-5fb8-4f0d-b6d6-995716ae274d",
   "metadata": {},
   "source": [
    "# 25"
   ]
  },
  {
   "cell_type": "code",
   "execution_count": 115,
   "id": "6d2016a8-627b-4799-9180-e0d80a19b24f",
   "metadata": {},
   "outputs": [],
   "source": [
    "import matplotlib.pyplot as plt"
   ]
  },
  {
   "cell_type": "code",
   "execution_count": 116,
   "id": "61eac33c-6b52-435d-9e08-4f491c0f2535",
   "metadata": {},
   "outputs": [],
   "source": [
    "import numpy as np"
   ]
  },
  {
   "cell_type": "code",
   "execution_count": 117,
   "id": "fb5f933d-72b0-41b1-af9f-c6f9ec9d9b55",
   "metadata": {},
   "outputs": [],
   "source": [
    "x= np.linspace(0,2*np.pi,1000)"
   ]
  },
  {
   "cell_type": "markdown",
   "id": "fb10a9ea-13f5-44a1-953d-7b70efa49d38",
   "metadata": {},
   "source": [
    "# 26"
   ]
  },
  {
   "cell_type": "code",
   "execution_count": 118,
   "id": "b80770c7-a2ea-4178-9336-546c31a8fb64",
   "metadata": {},
   "outputs": [
    {
     "data": {
      "image/png": "[encoded data removed]",
      "text/plain": [
       "<Figure size 640x480 with 1 Axes>"
      ]
     },
     "metadata": {},
     "output_type": "display_data"
    }
   ],
   "source": [
    "plt.plot(x,np.sin(x))\n",
    "plt.show()"
   ]
  },
  {
   "cell_type": "code",
   "execution_count": 119,
   "id": "520a953b-06b0-452e-8322-5276b5be1d11",
   "metadata": {},
   "outputs": [
    {
     "data": {
      "image/png": "[encoded data removed]",
      "text/plain": [
       "<Figure size 640x480 with 1 Axes>"
      ]
     },
     "metadata": {},
     "output_type": "display_data"
    }
   ],
   "source": [
    "import numpy as np\n",
    "import matplotlib.pyplot as plt\n",
    "\n",
    "# Création des données\n",
    "t = np.arange(0, 2*np.pi, np.pi/4)\n",
    "y = np.sin(t)\n",
    "\n",
    "# Création du graphique\n",
    "plt.plot(t, y)\n",
    "\n",
    "# Affichage du graphique\n",
    "plt.show()"
   ]
  },
  {
   "cell_type": "code",
   "execution_count": 120,
   "id": "6c99aba9-02be-46a3-a5c7-6fd886145e01",
   "metadata": {},
   "outputs": [
    {
     "data": {
      "image/png": "[encoded data removed]",
      "text/plain": [
       "<Figure size 640x480 with 1 Axes>"
      ]
     },
     "metadata": {},
     "output_type": "display_data"
    }
   ],
   "source": [
    "import numpy as np\n",
    "import matplotlib.pyplot as plt\n",
    "\n",
    "# Create data points\n",
    "x = np.linspace(0, 3*np.pi, 1000)\n",
    "y = np.sin(x)\n",
    "\n",
    "# Plot the sine curve\n",
    "plt.plot(x, y)\n",
    "plt.xlabel('x')\n",
    "plt.ylabel('sin(x)')\n",
    "plt.title('Sine Curve')\n",
    "plt.grid(True)\n",
    "plt.show()"
   ]
  },
  {
   "cell_type": "code",
   "execution_count": 123,
   "id": "30bdf589-e327-4893-9aef-ab7291177170",
   "metadata": {},
   "outputs": [
    {
     "data": {
      "image/png": "[encoded data removed]",
      "text/plain": [
       "<Figure size 640x480 with 1 Axes>"
      ]
     },
     "metadata": {},
     "output_type": "display_data"
    }
   ],
   "source": [
    "import matplotlib.pyplot as plt\n",
    "import numpy as np\n",
    "\n",
    "# Create data points\n",
    "x = np.linspace(0, 3*np.pi, 100)  # 100 points between 0 and 3*pi\n",
    "\n",
    "# Calculate sine and cosine values\n",
    "y1 = np.sin(x)\n",
    "y2 = np.cos(x)\n",
    "\n",
    "# Plot the graphs with different line styles\n",
    "plt.plot(x, y2, label='cos(x)', color='#FF0000', linewidth=1, linestyle='--')  # Red dashed line (hexadecimal)\n",
    "plt.plot(x, y2, label='cos(x)', color='red', linewidth=1, linestyle='--')  # Red dashed line (color name)\n",
    "# Format the figure\n",
    "plt.title(\"sin(x) and cos(x) in range [0, 3π]\", fontsize=18)\n",
    "plt.xlabel(\"Angle (radians)\", fontsize=15)\n",
    "plt.ylabel(\"sin(x), cos(x)\", fontsize=15)\n",
    "plt.legend(fontsize=15)  # Show legend with labels\n",
    "plt.grid(True)\n",
    "plt.show()"
   ]
  },
  {
   "cell_type": "markdown",
   "id": "5cd001a4-724d-4ef1-a9f2-433acf590384",
   "metadata": {},
   "source": [
    "# 27"
   ]
  },
  {
   "cell_type": "code",
   "execution_count": 124,
   "id": "701820f5-a56a-4a28-949c-67a596fbc85e",
   "metadata": {},
   "outputs": [],
   "source": [
    "x=np.linspace(0,10,100)\n",
    "y=np.sin(x)"
   ]
  },
  {
   "cell_type": "code",
   "execution_count": 125,
   "id": "5826c476-94bc-491e-85db-83adcb93d918",
   "metadata": {},
   "outputs": [
    {
     "data": {
      "text/plain": [
       "[<matplotlib.lines.Line2D at 0x2ce66f1d9d0>]"
      ]
     },
     "execution_count": 125,
     "metadata": {},
     "output_type": "execute_result"
    },
    {
     "data": {
      "image/png": "[encoded data removed]",
      "text/plain": [
       "<Figure size 640x480 with 1 Axes>"
      ]
     },
     "metadata": {},
     "output_type": "display_data"
    }
   ],
   "source": [
    "plt.plot(x,y)"
   ]
  },
  {
   "cell_type": "code",
   "execution_count": 126,
   "id": "62a0b189-e3ae-4251-ac22-866aaa43b767",
   "metadata": {},
   "outputs": [
    {
     "data": {
      "text/plain": [
       "<matplotlib.legend.Legend at 0x2ce66f2b8f0>"
      ]
     },
     "execution_count": 126,
     "metadata": {},
     "output_type": "execute_result"
    },
    {
     "data": {
      "image/png": "[encoded data removed]",
      "text/plain": [
       "<Figure size 640x480 with 1 Axes>"
      ]
     },
     "metadata": {},
     "output_type": "display_data"
    }
   ],
   "source": [
    "plt.plot(x,y,linestyle='--',color='red',label='sin(x)')\n",
    "plt.xlabel('x')\n",
    "plt.ylabel('y')\n",
    "plt.title('line Plot')\n",
    "plt.legend()"
   ]
  },
  {
   "cell_type": "code",
   "execution_count": 128,
   "id": "3f28f2b9-e3a9-4fce-ba45-a5b3dd8c4558",
   "metadata": {},
   "outputs": [],
   "source": [
    "plt.show()"
   ]
  },
  {
   "cell_type": "code",
   "execution_count": 130,
   "id": "05031f54-c36d-488e-852a-d0aee45aa2ae",
   "metadata": {},
   "outputs": [
    {
     "data": {
      "image/png": "[encoded data removed]",
      "text/plain": [
       "<Figure size 640x480 with 1 Axes>"
      ]
     },
     "metadata": {},
     "output_type": "display_data"
    }
   ],
   "source": [
    "plt.plot([1,2,3,4])\n",
    "plt.ylabel('some numbers')\n",
    "plt.show()"
   ]
  },
  {
   "cell_type": "code",
   "execution_count": 131,
   "id": "32fdd71e-219e-4019-8ffd-20643b8e63e5",
   "metadata": {},
   "outputs": [
    {
     "data": {
      "image/png": "[encoded data removed]",
      "text/plain": [
       "<Figure size 640x480 with 1 Axes>"
      ]
     },
     "metadata": {},
     "output_type": "display_data"
    }
   ],
   "source": [
    "plt.plot([1, 2, 3, 4], [1, 4, 9, 16], 'ro')\n",
    "plt.axis([0, 6, 0, 20])\n",
    "plt.show()"
   ]
  },
  {
   "cell_type": "code",
   "execution_count": 133,
   "id": "5927a67c-9030-45a1-8d8f-6e85a33bd3af",
   "metadata": {},
   "outputs": [
    {
     "data": {
      "image/png": "[encoded data removed]",
      "text/plain": [
       "<Figure size 640x480 with 1 Axes>"
      ]
     },
     "metadata": {},
     "output_type": "display_data"
    }
   ],
   "source": [
    "t = np.arange(0., 5., 0.2)\n",
    "plt.plot(t, t, 'r--', t, t**2, 'bs', t, t**3, 'g^')\n",
    "plt.show()"
   ]
  },
  {
   "cell_type": "code",
   "execution_count": 135,
   "id": "dab2e08e-2370-4d89-938d-f02819792479",
   "metadata": {},
   "outputs": [
    {
     "data": {
      "image/png": "[encoded data removed]",
      "text/plain": [
       "<Figure size 900x300 with 3 Axes>"
      ]
     },
     "metadata": {},
     "output_type": "display_data"
    }
   ],
   "source": [
    "names = ['group_a', 'group_b', 'group_c']\n",
    "values = [1, 10, 100]\n",
    "plt.figure(figsize=(9, 3))\n",
    "plt.subplot(131)\n",
    "plt.bar(names, values)\n",
    "plt.subplot(132)\n",
    "plt.scatter(names, values)\n",
    "plt.subplot(133)\n",
    "plt.plot(names, values)\n",
    "plt.suptitle('Categorical Plotting') \n",
    "plt.show()"
   ]
  },
  {
   "cell_type": "code",
   "execution_count": 137,
   "id": "36ea1b7a-70a8-49fc-9077-b539c31a679f",
   "metadata": {},
   "outputs": [
    {
     "data": {
      "image/png": "[encoded data removed]",
      "text/plain": [
       "<Figure size 640x480 with 1 Axes>"
      ]
     },
     "metadata": {},
     "output_type": "display_data"
    }
   ],
   "source": [
    "x = np.arange(0, 5, 0.1) \n",
    "line, =plt.plot(x, np.sin(x), '-')"
   ]
  },
  {
   "cell_type": "code",
   "execution_count": 138,
   "id": "f935917a-539b-414f-bbb9-495eab4ee7a8",
   "metadata": {},
   "outputs": [],
   "source": [
    "line.set_linewidth (2.0) ## Set the Linewidth property of the line to 2.0"
   ]
  },
  {
   "cell_type": "code",
   "execution_count": 140,
   "id": "034c7427-0e09-4475-b582-68aedb25ae3c",
   "metadata": {},
   "outputs": [
    {
     "data": {
      "text/plain": [
       "[None, None]"
      ]
     },
     "execution_count": 140,
     "metadata": {},
     "output_type": "execute_result"
    }
   ],
   "source": [
    "## Using the pyplot.setp function\n",
    "plt.setp(line, color='r', linewidth=2.0) "
   ]
  },
  {
   "cell_type": "code",
   "execution_count": 142,
   "id": "89c4a96f-f90b-406a-ba75-6c63b4d2ade8",
   "metadata": {},
   "outputs": [],
   "source": [
    "plt.show()"
   ]
  },
  {
   "cell_type": "code",
   "execution_count": null,
   "id": "bda535fb-4fa2-494d-8a4f-71065edb3c51",
   "metadata": {},
   "outputs": [],
   "source": [
    "from "
   ]
  }
 ],
 "metadata": {
  "kernelspec": {
   "display_name": "Python 3",
   "language": "python",
   "name": "python3"
  },
  "language_info": {
   "codemirror_mode": {
    "name": "ipython",
    "version": 3
   },
   "file_extension": ".py",
   "mimetype": "text/x-python",
   "name": "python",
   "nbconvert_exporter": "python",
   "pygments_lexer": "ipython3",
   "version": "3.12.3"
  }
 },
 "nbformat": 4,
 "nbformat_minor": 5
}
