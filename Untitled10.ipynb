{
 "cells": [
  {
   "cell_type": "code",
   "execution_count": 2,
   "id": "76122d69-526d-4a58-a8a7-a60b1988a90a",
   "metadata": {},
   "outputs": [],
   "source": [
    "import numpy as np"
   ]
  },
  {
   "cell_type": "code",
   "execution_count": 3,
   "id": "43a47f22-584a-4bd0-8e9c-a155883b9647",
   "metadata": {},
   "outputs": [],
   "source": [
    "list1=[2,4,6,8]"
   ]
  },
  {
   "cell_type": "code",
   "execution_count": 4,
   "id": "535842be-eff8-4ce4-930a-ce26cf65f3bb",
   "metadata": {},
   "outputs": [],
   "source": [
    "array1=np.array(list1)"
   ]
  },
  {
   "cell_type": "code",
   "execution_count": 5,
   "id": "73df9820-8504-4042-80dc-d4ce343fcbcb",
   "metadata": {},
   "outputs": [
    {
     "name": "stdout",
     "output_type": "stream",
     "text": [
      "[2 4 6 8]\n"
     ]
    }
   ],
   "source": [
    "print(array1)"
   ]
  },
  {
   "cell_type": "code",
   "execution_count": 6,
   "id": "46c5beed-8c1e-4627-946b-962d189083ae",
   "metadata": {},
   "outputs": [],
   "source": [
    "array1=np.array([2,4,6,8])"
   ]
  },
  {
   "cell_type": "code",
   "execution_count": 7,
   "id": "22aebca3-0ea7-4f13-ad67-01233a5f43f2",
   "metadata": {},
   "outputs": [
    {
     "name": "stdout",
     "output_type": "stream",
     "text": [
      "[2 4 6 8]\n"
     ]
    }
   ],
   "source": [
    "print(array1)"
   ]
  },
  {
   "cell_type": "code",
   "execution_count": 8,
   "id": "0736e945-90c6-4de6-baa6-526bc22945c4",
   "metadata": {},
   "outputs": [],
   "source": [
    "array1=np.zeros(4)"
   ]
  },
  {
   "cell_type": "code",
   "execution_count": 9,
   "id": "3aa77609-670c-4639-8315-018b7fa047b2",
   "metadata": {},
   "outputs": [
    {
     "name": "stdout",
     "output_type": "stream",
     "text": [
      "[0. 0. 0. 0.]\n"
     ]
    }
   ],
   "source": [
    "print(array1)"
   ]
  },
  {
   "cell_type": "code",
   "execution_count": 10,
   "id": "ba55a2b2-7e1a-4423-88df-5a8f3a2f2469",
   "metadata": {},
   "outputs": [],
   "source": [
    "array1=np.arange(5)"
   ]
  },
  {
   "cell_type": "code",
   "execution_count": 11,
   "id": "7d1d483e-3cda-404f-9677-27c9a06e36f2",
   "metadata": {},
   "outputs": [
    {
     "name": "stdout",
     "output_type": "stream",
     "text": [
      "using np.arange(5) [0 1 2 3 4]\n"
     ]
    }
   ],
   "source": [
    "print(\"using np.arange(5)\", array1)"
   ]
  },
  {
   "cell_type": "code",
   "execution_count": 12,
   "id": "e52ff03f-66a2-450b-b2a4-454540e086ac",
   "metadata": {},
   "outputs": [],
   "source": [
    "array2=np.arange(1,9,2)"
   ]
  },
  {
   "cell_type": "code",
   "execution_count": 13,
   "id": "432ff694-535d-4e18-9140-982399cd724e",
   "metadata": {},
   "outputs": [
    {
     "name": "stdout",
     "output_type": "stream",
     "text": [
      "using np.arrange(1,9,2) [1 3 5 7]\n"
     ]
    }
   ],
   "source": [
    "print(\"using np.arrange(1,9,2)\" ,array2)"
   ]
  },
  {
   "cell_type": "code",
   "execution_count": 14,
   "id": "e08df652-9aa3-411e-b5d3-d85e9bf59fb2",
   "metadata": {},
   "outputs": [],
   "source": [
    "array1=np.random.rand(5)"
   ]
  },
  {
   "cell_type": "code",
   "execution_count": 15,
   "id": "13e154af-6ed4-43ec-b978-3405fff439f6",
   "metadata": {},
   "outputs": [
    {
     "name": "stdout",
     "output_type": "stream",
     "text": [
      "[0.2711406  0.56725236 0.6225883  0.33618843 0.41781262]\n"
     ]
    }
   ],
   "source": [
    "print(array1)"
   ]
  },
  {
   "cell_type": "code",
   "execution_count": 16,
   "id": "43aebacb-1fb5-4b82-bf38-d15937b98151",
   "metadata": {},
   "outputs": [],
   "source": [
    "array1=np.empty(4)"
   ]
  },
  {
   "cell_type": "code",
   "execution_count": 17,
   "id": "703e3ed4-47f4-44a3-866e-213ac748e226",
   "metadata": {},
   "outputs": [
    {
     "name": "stdout",
     "output_type": "stream",
     "text": [
      "[0. 0. 0. 0.]\n"
     ]
    }
   ],
   "source": [
    "print (array1)"
   ]
  },
  {
   "cell_type": "code",
   "execution_count": 18,
   "id": "ec18a43c-63be-4c2b-a93d-d9538134885e",
   "metadata": {},
   "outputs": [],
   "source": [
    "array1=np.array([[1,2,3,4],\n",
    "                 [5,6,7,8]])"
   ]
  },
  {
   "cell_type": "code",
   "execution_count": 19,
   "id": "ada95027-fb57-45db-955a-1e62f27b0018",
   "metadata": {},
   "outputs": [
    {
     "name": "stdout",
     "output_type": "stream",
     "text": [
      "[[1 2 3 4]\n",
      " [5 6 7 8]]\n"
     ]
    }
   ],
   "source": [
    "print(array1)"
   ]
  },
  {
   "cell_type": "code",
   "execution_count": 20,
   "id": "02d3b963-2bdb-43f7-b2ae-b27dda0976b2",
   "metadata": {},
   "outputs": [],
   "source": [
    "array1=np.array([[[1,2,3,4],\n",
    "                  [5,6,7,8],\n",
    "                  [9,10,11,12]],\n",
    "                 [[13,14,15,16],\n",
    "                  [17,18,19,20],\n",
    "                  [21,22,23,24]]])"
   ]
  },
  {
   "cell_type": "code",
   "execution_count": 21,
   "id": "50d8e425-32dc-4fef-9b80-5b17e2170a12",
   "metadata": {},
   "outputs": [
    {
     "name": "stdout",
     "output_type": "stream",
     "text": [
      "[[[ 1  2  3  4]\n",
      "  [ 5  6  7  8]\n",
      "  [ 9 10 11 12]]\n",
      "\n",
      " [[13 14 15 16]\n",
      "  [17 18 19 20]\n",
      "  [21 22 23 24]]]\n"
     ]
    }
   ],
   "source": [
    "print(array1)"
   ]
  },
  {
   "cell_type": "code",
   "execution_count": 22,
   "id": "544f250e-bf67-4b0d-8780-cb44c3e129d7",
   "metadata": {},
   "outputs": [],
   "source": [
    "array1=np.array((2,3))"
   ]
  },
  {
   "cell_type": "code",
   "execution_count": 23,
   "id": "12b766d8-043b-44af-9da8-2139f11d775b",
   "metadata": {},
   "outputs": [
    {
     "name": "stdout",
     "output_type": "stream",
     "text": [
      "tableaux 2D [2 3]\n"
     ]
    }
   ],
   "source": [
    "print(\"tableaux 2D\" ,array1)"
   ]
  },
  {
   "cell_type": "code",
   "execution_count": 24,
   "id": "d57dcdc7-b726-4a4c-b883-9ffd225893f1",
   "metadata": {},
   "outputs": [
    {
     "name": "stdout",
     "output_type": "stream",
     "text": [
      "[2 3]\n"
     ]
    }
   ],
   "source": [
    "print(array1)"
   ]
  },
  {
   "cell_type": "code",
   "execution_count": 25,
   "id": "ea672784-9821-4786-aabf-4d6b1c5bc527",
   "metadata": {},
   "outputs": [],
   "source": [
    "array2=np.zeros((2,3,4))"
   ]
  },
  {
   "cell_type": "code",
   "execution_count": 26,
   "id": "e24a56c8-7eb7-42b5-a024-c28d8aa524f0",
   "metadata": {},
   "outputs": [
    {
     "name": "stdout",
     "output_type": "stream",
     "text": [
      "tableaux 3d\n"
     ]
    }
   ],
   "source": [
    "print(\"tableaux 3d\")"
   ]
  },
  {
   "cell_type": "code",
   "execution_count": 27,
   "id": "b858793b-4518-4d16-a020-dd98b7a1860d",
   "metadata": {},
   "outputs": [
    {
     "name": "stdout",
     "output_type": "stream",
     "text": [
      "[[[0. 0. 0. 0.]\n",
      "  [0. 0. 0. 0.]\n",
      "  [0. 0. 0. 0.]]\n",
      "\n",
      " [[0. 0. 0. 0.]\n",
      "  [0. 0. 0. 0.]\n",
      "  [0. 0. 0. 0.]]]\n"
     ]
    }
   ],
   "source": [
    "print(array2)"
   ]
  },
  {
   "cell_type": "code",
   "execution_count": 28,
   "id": "8b07c780-87f1-48f4-9e3b-3eb614a96360",
   "metadata": {},
   "outputs": [],
   "source": [
    "array2=np.ones((2,3,4))"
   ]
  },
  {
   "cell_type": "code",
   "execution_count": 29,
   "id": "a99a84fb-1023-46c9-b24e-a64c22ff8e77",
   "metadata": {},
   "outputs": [
    {
     "name": "stdout",
     "output_type": "stream",
     "text": [
      "[[[1. 1. 1. 1.]\n",
      "  [1. 1. 1. 1.]\n",
      "  [1. 1. 1. 1.]]\n",
      "\n",
      " [[1. 1. 1. 1.]\n",
      "  [1. 1. 1. 1.]\n",
      "  [1. 1. 1. 1.]]]\n"
     ]
    }
   ],
   "source": [
    "print(array2)"
   ]
  },
  {
   "cell_type": "code",
   "execution_count": 30,
   "id": "5852cdec-61ca-41b3-803b-d2e28c2eff15",
   "metadata": {},
   "outputs": [],
   "source": [
    "numpy_array=np.full((2,2),5)"
   ]
  },
  {
   "cell_type": "code",
   "execution_count": 31,
   "id": "18004d16-771e-43bf-b59e-08879ab93e6e",
   "metadata": {},
   "outputs": [
    {
     "name": "stdout",
     "output_type": "stream",
     "text": [
      "Tableau [[5 5]\n",
      " [5 5]]\n"
     ]
    }
   ],
   "source": [
    "print(\"Tableau\",numpy_array)"
   ]
  },
  {
   "cell_type": "code",
   "execution_count": 32,
   "id": "863162a5-8f44-4640-922a-c04a9252f590",
   "metadata": {},
   "outputs": [
    {
     "name": "stdout",
     "output_type": "stream",
     "text": [
      "[[0.86685631 0.53736042]\n",
      " [0.75282437 0.50728774]]\n"
     ]
    }
   ],
   "source": [
    "array1=np.random.rand(2,2)\n",
    "print(array1)"
   ]
  },
  {
   "cell_type": "code",
   "execution_count": 33,
   "id": "da33203b-ef0a-4f66-a727-d27ec2550c7d",
   "metadata": {},
   "outputs": [],
   "source": [
    "array2=np.random.rand(2,2,2)"
   ]
  },
  {
   "cell_type": "code",
   "execution_count": 34,
   "id": "700c831d-5331-4898-92b3-07d8b28a2e61",
   "metadata": {},
   "outputs": [
    {
     "name": "stdout",
     "output_type": "stream",
     "text": [
      "[[[0.03524065 0.18053961]\n",
      "  [0.14430574 0.76638642]]\n",
      "\n",
      " [[0.56709922 0.06316699]\n",
      "  [0.85166588 0.00646858]]]\n"
     ]
    }
   ],
   "source": [
    "print(array2)"
   ]
  },
  {
   "cell_type": "code",
   "execution_count": 35,
   "id": "5886736e-8c5d-4f20-90d0-6d91fb5ef50d",
   "metadata": {},
   "outputs": [
    {
     "name": "stdout",
     "output_type": "stream",
     "text": [
      "tableau 2D:\n",
      "[[0.86685631 0.53736042]\n",
      " [0.75282437 0.50728774]]\n"
     ]
    }
   ],
   "source": [
    "array1=np.empty((2,2))\n",
    "print(\"tableau 2D:\")\n",
    "print(array1)"
   ]
  },
  {
   "cell_type": "code",
   "execution_count": 36,
   "id": "c54b6a9b-f717-4284-bcaa-5e48dbf74105",
   "metadata": {},
   "outputs": [
    {
     "name": "stdout",
     "output_type": "stream",
     "text": [
      "tableau 3D:\n",
      "[[[0.03524065 0.18053961]\n",
      "  [0.14430574 0.76638642]]\n",
      "\n",
      " [[0.56709922 0.06316699]\n",
      "  [0.85166588 0.00646858]]]\n"
     ]
    }
   ],
   "source": [
    "array2=np.empty((2,2,2))\n",
    "print(\"tableau 3D:\")\n",
    "print(array2)"
   ]
  },
  {
   "cell_type": "code",
   "execution_count": 37,
   "id": "37f61a53-b284-42ca-85c6-bb0056004531",
   "metadata": {},
   "outputs": [],
   "source": [
    "array1=np.array([2,4,6])"
   ]
  },
  {
   "cell_type": "code",
   "execution_count": 38,
   "id": "3faa90f2-2d75-44c1-be8c-29dd5b1aaed4",
   "metadata": {},
   "outputs": [
    {
     "name": "stdout",
     "output_type": "stream",
     "text": [
      "int64\n"
     ]
    }
   ],
   "source": [
    "print(array1.dtype)"
   ]
  },
  {
   "cell_type": "code",
   "execution_count": 39,
   "id": "6dd6d403-696c-4d78-9723-1e5121bf74c7",
   "metadata": {},
   "outputs": [],
   "source": [
    "array1=np.array([1,3,7], dtype='int32')"
   ]
  },
  {
   "cell_type": "code",
   "execution_count": 40,
   "id": "08eb5115-5cac-4c88-8302-d7f0174450db",
   "metadata": {},
   "outputs": [
    {
     "name": "stdout",
     "output_type": "stream",
     "text": [
      "[1 3 7] int32\n"
     ]
    }
   ],
   "source": [
    "print(array1,array1.dtype)"
   ]
  },
  {
   "cell_type": "markdown",
   "id": "591ec021-6eaa-4e0a-9a53-60310fb724aa",
   "metadata": {},
   "source": [
    "<h3>Conversion de Type Numpy</h3>"
   ]
  },
  {
   "cell_type": "code",
   "execution_count": 41,
   "id": "49311b3e-f057-4099-9830-4771b769bdbb",
   "metadata": {},
   "outputs": [],
   "source": [
    "int_array=np.array([1,3,5,7])"
   ]
  },
  {
   "cell_type": "code",
   "execution_count": 42,
   "id": "ee1ef28d-b13b-4e3e-8f58-7f4c4d983015",
   "metadata": {},
   "outputs": [],
   "source": [
    "float_array=int_array.astype('float')"
   ]
  },
  {
   "cell_type": "code",
   "execution_count": 43,
   "id": "c6e74267-6b29-43e4-9838-8fe56e8996c0",
   "metadata": {},
   "outputs": [
    {
     "name": "stdout",
     "output_type": "stream",
     "text": [
      "[1 3 5 7] int64\n"
     ]
    }
   ],
   "source": [
    "print(int_array,int_array.dtype)"
   ]
  },
  {
   "cell_type": "code",
   "execution_count": 44,
   "id": "eac701d9-3535-4388-84a2-ace5a75e4e28",
   "metadata": {},
   "outputs": [
    {
     "name": "stdout",
     "output_type": "stream",
     "text": [
      "[1. 3. 5. 7.] float64\n"
     ]
    }
   ],
   "source": [
    "print(float_array,float_array.dtype)"
   ]
  },
  {
   "cell_type": "markdown",
   "id": "13c6680f-ac1b-45f7-baad-fd9367dadba2",
   "metadata": {},
   "source": [
    "<h2>Attributs des tableau Numpy</h2>"
   ]
  },
  {
   "cell_type": "markdown",
   "id": "1086106f-613e-4611-9129-882404a38ca9",
   "metadata": {},
   "source": [
    "<h3>Attribut ndim d un tableau Numpy</h3>"
   ]
  },
  {
   "cell_type": "code",
   "execution_count": 45,
   "id": "f5308c83-22e3-4dfc-83f8-bcc6dd99a0dd",
   "metadata": {},
   "outputs": [],
   "source": [
    "array1=np.array([[2,4,6],[1,3,5]])"
   ]
  },
  {
   "cell_type": "code",
   "execution_count": 46,
   "id": "2c9a46de-9be3-4c05-a1d9-866b0f5294fe",
   "metadata": {},
   "outputs": [
    {
     "name": "stdout",
     "output_type": "stream",
     "text": [
      "2\n",
      "6\n",
      "int64\n",
      "(2, 3)\n",
      "8\n",
      "<memory at 0x000002237EBE17D0>\n"
     ]
    }
   ],
   "source": [
    "#dimentient de tableau\n",
    "print(array1.ndim)\n",
    "#nbr element de Tableau\n",
    "print(array1.size)\n",
    "#Type de des donnee\n",
    "print(array1.dtype)\n",
    "#la taille de tableau de chaque dimension\n",
    "print(array1.shape)\n",
    "#la taille en octete de chaque element de T\n",
    "print(array1.itemsize)\n",
    "#Affiche l'objet buffer (adresse mémoire)\n",
    "print(array1.data)"
   ]
  },
  {
   "cell_type": "code",
   "execution_count": 47,
   "id": "5b021570-86dd-4f3d-a9e9-b4ddf829b369",
   "metadata": {},
   "outputs": [],
   "source": [
    "array1=np.array([[1,3,5],[7,9,10]])\n",
    "np.save('file1.npy',array1)"
   ]
  },
  {
   "cell_type": "code",
   "execution_count": 48,
   "id": "2e9d174f-98e5-4f17-bb93-f4e53a2144bb",
   "metadata": {},
   "outputs": [],
   "source": [
    "tableau_charge=np.load('file1.npy')"
   ]
  },
  {
   "cell_type": "markdown",
   "id": "0ffacf85-22e0-42ea-afef-a333b9f42893",
   "metadata": {},
   "source": [
    "# la page 8"
   ]
  },
  {
   "cell_type": "code",
   "execution_count": 49,
   "id": "19de01b6-e671-48c4-983e-febc2bd13e32",
   "metadata": {},
   "outputs": [
    {
     "name": "stdout",
     "output_type": "stream",
     "text": [
      "6\n"
     ]
    }
   ],
   "source": [
    "print(array1.size)"
   ]
  },
  {
   "cell_type": "code",
   "execution_count": 50,
   "id": "41566905-ba00-45fa-b8c2-f88e636415db",
   "metadata": {},
   "outputs": [],
   "source": [
    "array1=np.array([[1,2,3],[6,7,8]])"
   ]
  },
  {
   "cell_type": "code",
   "execution_count": 51,
   "id": "1450d538-606b-41ca-bee1-49d16d827542",
   "metadata": {},
   "outputs": [
    {
     "data": {
      "text/plain": [
       "(2, 3)"
      ]
     },
     "execution_count": 51,
     "metadata": {},
     "output_type": "execute_result"
    }
   ],
   "source": [
    "array1.shape"
   ]
  },
  {
   "cell_type": "markdown",
   "id": "af2c3f02-835d-4d27-9758-70439b57d4a7",
   "metadata": {},
   "source": [
    "les fonctions dentreé et sorter"
   ]
  },
  {
   "cell_type": "code",
   "execution_count": 52,
   "id": "e6215fc1-f0f6-4f9d-85b7-b017c5041063",
   "metadata": {},
   "outputs": [
    {
     "name": "stdout",
     "output_type": "stream",
     "text": [
      "[[1 2 3]\n",
      " [6 7 8]]\n"
     ]
    }
   ],
   "source": [
    "# Save the array to a `.npy` file\n",
    "np.save('array1.npy', array1)\n",
    "# Load the array from the file\n",
    "loaded_array = np.load('array1.npy')\n",
    "# Print the loaded array\n",
    "print(loaded_array)"
   ]
  },
  {
   "cell_type": "markdown",
   "id": "9af77d56-0a15-44cf-85dc-6d4a77bb166d",
   "metadata": {},
   "source": [
    "# P9"
   ]
  },
  {
   "cell_type": "code",
   "execution_count": 53,
   "id": "ddf4831c-f7f3-4784-a2ef-be36cce5413f",
   "metadata": {},
   "outputs": [
    {
     "name": "stdout",
     "output_type": "stream",
     "text": [
      "[[ 1  3  5]\n",
      " [ 7  9 10]]\n"
     ]
    }
   ],
   "source": [
    "# Chargement du tableau NumPy sauvegardé \n",
    "tableau_chargé = np.load('file1.npy')\n",
    "# affiche le tableau chargé \n",
    "print(tableau_chargé) \n"
   ]
  },
  {
   "cell_type": "markdown",
   "id": "eca39f73-8a16-40e4-9030-1e1afcb95410",
   "metadata": {},
   "source": [
    "# P10"
   ]
  },
  {
   "cell_type": "markdown",
   "id": "558e9655-c8f2-488a-82f6-c60c20e1f092",
   "metadata": {},
   "source": [
    "Découpage de tableau NumPy "
   ]
  },
  {
   "cell_type": "code",
   "execution_count": 54,
   "id": "5ebeacee-c5e9-4829-a047-859c73ddc36e",
   "metadata": {},
   "outputs": [
    {
     "name": "stdout",
     "output_type": "stream",
     "text": [
      "[5 7 8 9]\n",
      "[1 5 8 2]\n",
      "[7 8 9 2 4 6]\n",
      "[1 3 5 7 8 9 2 4 6]\n"
     ]
    }
   ],
   "source": [
    "# Création d'un tableau 1D \n",
    "array1 = np.array([1, 3, 5, 7, 8, 9, 2, 4, 6])\n",
    "# découpe arrayl de l'index 2 à l'index 6 (exclusif)\n",
    "print(array1[2:6])  \n",
    "# découpe le tableau 1 de l'index 0 à l'index 8 (exclusif) avec un pas de 2\n",
    "print(array1[0:8:2]) \n",
    "# découpe arrayl de l'index 3 jusqu'au dernier élément \n",
    "print(array1[3 :]) \n",
    "# éléments du début à la fin\n",
    "print(array1[ :])"
   ]
  },
  {
   "cell_type": "code",
   "execution_count": 55,
   "id": "36857e27-552c-416b-b8e9-2465db0e4a47",
   "metadata": {},
   "outputs": [
    {
     "name": "stdout",
     "output_type": "stream",
     "text": [
      "[ 2  4  6 20 20 20]\n"
     ]
    }
   ],
   "source": [
    "# créer un tableau numpy \n",
    "numbers = np.array([2, 4, 6, 8, 10, 12]) \n",
    "# modifier les éléments à partir de l'indice 3 \n",
    "numbers[3 :] = 20 \n",
    "print (numbers) "
   ]
  },
  {
   "cell_type": "code",
   "execution_count": 56,
   "id": "c954079e-d7fb-4f12-8f12-ac52bf796135",
   "metadata": {},
   "outputs": [
    {
     "name": "stdout",
     "output_type": "stream",
     "text": [
      "[40 40 40 20 20 20]\n"
     ]
    }
   ],
   "source": [
    "numbers[:3]= 40\n",
    "print(numbers)"
   ]
  },
  {
   "cell_type": "code",
   "execution_count": 57,
   "id": "e70b3286-b891-425e-8477-efae4fd6d777",
   "metadata": {},
   "outputs": [
    {
     "name": "stdout",
     "output_type": "stream",
     "text": [
      "[ 2  4 22 22 22 12]\n"
     ]
    }
   ],
   "source": [
    "numbers = np.array([2, 4, 6, 8, 10, 12]) \n",
    "numbers[2:5]=22\n",
    "print(numbers)"
   ]
  },
  {
   "cell_type": "code",
   "execution_count": 58,
   "id": "82202935-3e5f-42b9-92e1-65c0b4451495",
   "metadata": {},
   "outputs": [
    {
     "name": "stdout",
     "output_type": "stream",
     "text": [
      "[ 2 16  6 16 10 16 12]\n"
     ]
    }
   ],
   "source": [
    "numbers = np.array([2, 4, 6, 8, 10, 11,12]) \n",
    "numbers[1:6:2]=16\n",
    "print(numbers)"
   ]
  },
  {
   "cell_type": "code",
   "execution_count": 65,
   "id": "4bba4669-efe2-41af-be98-e8eb129be06f",
   "metadata": {},
   "outputs": [
    {
     "data": {
      "text/plain": [
       "array([ 8, 10, 12])"
      ]
     },
     "execution_count": 65,
     "metadata": {},
     "output_type": "execute_result"
    }
   ],
   "source": [
    "numbers = np.array([2, 4, 6, 8, 10,12]) \n",
    "numbers[-3:] "
   ]
  },
  {
   "cell_type": "code",
   "execution_count": 64,
   "id": "d15d4dbf",
   "metadata": {},
   "outputs": [
    {
     "data": {
      "text/plain": [
       "array([4, 6, 8])"
      ]
     },
     "execution_count": 64,
     "metadata": {},
     "output_type": "execute_result"
    }
   ],
   "source": [
    "numbers[-5:-2] "
   ]
  },
  {
   "cell_type": "code",
   "execution_count": 63,
   "id": "9724f7d2",
   "metadata": {},
   "outputs": [
    {
     "data": {
      "text/plain": [
       "array([12,  8,  4])"
      ]
     },
     "execution_count": 63,
     "metadata": {},
     "output_type": "execute_result"
    }
   ],
   "source": [
    "numbers[-1::-2] "
   ]
  },
  {
   "cell_type": "code",
   "execution_count": null,
   "id": "27604c57",
   "metadata": {},
   "outputs": [],
   "source": []
  }
 ],
 "metadata": {
  "kernelspec": {
   "display_name": "Python 3",
   "language": "python",
   "name": "python3"
  },
  "language_info": {
   "codemirror_mode": {
    "name": "ipython",
    "version": 3
   },
   "file_extension": ".py",
   "mimetype": "text/x-python",
   "name": "python",
   "nbconvert_exporter": "python",
   "pygments_lexer": "ipython3",
   "version": "3.12.3"
  }
 },
 "nbformat": 4,
 "nbformat_minor": 5
}
